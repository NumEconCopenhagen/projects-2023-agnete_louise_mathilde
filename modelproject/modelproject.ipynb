{
 "cells": [
  {
   "attachments": {},
   "cell_type": "markdown",
   "metadata": {},
   "source": [
    "# YOUR PROJECT TITLE"
   ]
  },
  {
   "attachments": {},
   "cell_type": "markdown",
   "metadata": {},
   "source": [
    "> **Note the following:** \n",
    "> 1. This is *not* meant to be an example of an actual **model analysis project**, just an example of how to structure such a project.\n",
    "> 1. Remember the general advice on structuring and commenting your code\n",
    "> 1. The `modelproject.py` file includes a function which could be used multiple times in this notebook."
   ]
  },
  {
   "attachments": {},
   "cell_type": "markdown",
   "metadata": {},
   "source": [
    "Imports and set magics:"
   ]
  },
  {
   "cell_type": "code",
   "execution_count": 2,
   "metadata": {},
   "outputs": [],
   "source": [
    "from mpl_toolkits.mplot3d import Axes3D\n",
    "from matplotlib import cm\n",
    "import matplotlib.pyplot as plt\n",
    "import time\n",
    "from types import SimpleNamespace\n",
    "\n",
    "import no_trade as nt\n",
    "import modelproject_copy as moc\n",
    "\n",
    "import modelproject as mp\n",
    "import numpy as np\n",
    "import sympy as sm\n",
    "\n",
    "from scipy import linalg\n",
    "from scipy import optimize\n",
    "from scipy.optimize import minimize\n",
    "\n",
    "# autoreload modules when code is run\n",
    "%load_ext autoreload\n",
    "%autoreload 2\n",
    "\n",
    "# local modules\n",
    "plt.rcParams.update({\"axes.grid\": True, \"grid.color\": \"black\",\n",
    "                    \"grid.alpha\": \"0.25\", \"grid.linestyle\": \"--\"})\n",
    "plt.rcParams.update({'font.size': 14})\n"
   ]
  },
  {
   "attachments": {},
   "cell_type": "markdown",
   "metadata": {},
   "source": [
    "# Model description"
   ]
  },
  {
   "attachments": {},
   "cell_type": "markdown",
   "metadata": {},
   "source": [
    "**Write out the model in equations here.** \n",
    "\n",
    "Make sure you explain well the purpose of the model and comment so that other students who may not have seen it before can follow.  \n",
    "\n",
    "The goods in this model are wine and cloth.\n",
    "\n",
    "Find the optimal level of trade between England and Portugal, when Portugal has an absolut advantage in both goods, but England has a comparative one in one of the goods. \n",
    "\n",
    "The table below contains the number of hours each coutry need to put into make 1 of the two goods. \n",
    "\n",
    "| Country   | Cloth | Wine |      \n",
    "|-----------|-------|------|      \n",
    "| England   | 100   | 120  |           \n",
    "| Portugal  | 90    | 80   |\n",
    "     \n",
    "| Country   | Cloth | Wine |\n",
    "|-----------|-------|------|\n",
    "| England   | 1     | 1.2  |\n",
    "| Portugal  | 1     | 8/9  |\n",
    "\n",
    "For one cloth England can make 1.2 wine, so they will buy cloth for more than 1.2 wine from Portugal. \n",
    "\n",
    "For one cloth Portugal can make 8/9 wine, so they will not buy cloth for more than 8/9 wine from England.\n",
    "\n",
    "If no trade is happening, England requires 220 hours of work to produce one unit each good, and Portugal requires 170 hours of work to produce the same quantities.\n",
    "\n",
    "If they do not trade and work a whole year (365*24) 8.760 hours, how much can they each consume? \n"
   ]
  },
  {
   "cell_type": "code",
   "execution_count": 32,
   "metadata": {},
   "outputs": [
    {
     "name": "stdout",
     "output_type": "stream",
     "text": [
      "Optimization terminated successfully    (Exit mode 0)\n",
      "            Current function value: -51.61879502634704\n",
      "            Iterations: 8\n",
      "            Function evaluations: 24\n",
      "            Gradient evaluations: 8\n",
      "Portugal produces 54.75 units of wine and 48.67 units of cloth. And, the resulting utility level is 51.62\n",
      "\n",
      "\n",
      "Optimization terminated successfully    (Exit mode 0)\n",
      "            Current function value: -39.98374669812673\n",
      "            Iterations: 10\n",
      "            Function evaluations: 30\n",
      "            Gradient evaluations: 10\n",
      "England produces 36.50 units of wine and 43.80 units of cloth. And, the resulting utility level is 39.98\n"
     ]
    }
   ],
   "source": [
    "from no_trade import no_trade_class as ntc\n",
    "ntc.portugal_production()\n",
    "print('\\n')\n",
    "ntc.england_production()"
   ]
  },
  {
   "attachments": {},
   "cell_type": "markdown",
   "metadata": {},
   "source": [
    "Now, according to Ricardo if they were to trade with England they would be able to consume more of both output, given that both England and Portugal were to produce more of the good inwhich they had a comparative advantage. \n",
    "\n",
    "If they worked the same number of hours, and traded, taking advantage of their comparative advantages, what would the new comsumption bundels look like?"
   ]
  },
  {
   "cell_type": "code",
   "execution_count": 47,
   "metadata": {},
   "outputs": [
    {
     "name": "stdout",
     "output_type": "stream",
     "text": [
      "Optimization terminated successfully    (Exit mode 0)\n",
      "            Current function value: -106.43253557075883\n",
      "            Iterations: 12\n",
      "            Function evaluations: 108\n",
      "            Gradient evaluations: 12\n",
      "The optimal production levels for Portugal are 64.22 units of wine and 50.37 units of cloth\n",
      "The export of wine from Portugal to England is 30.74 units\n",
      "The export of cloth from Portugal to England is 19.71 units\n",
      "The consumption levels for Portugal are 54.75 units of wine and 65.70 units of cloth\n",
      "The utility for Portugal is 59.98\n",
      "\n",
      "\n",
      "The optimal production levels for England are 39.80 units of wine and 59.13 units of cloth\n",
      "The export of wine from England to Portugal is 21.27 units\n",
      "The export of cloth from England to Portugal is 35.04 units\n",
      "The consumption levels for England are 49.28 units of wine and 43.80 units of cloth\n",
      "The utility for England is 46.46\n"
     ]
    }
   ],
   "source": [
    "moc.optimal_trade()"
   ]
  },
  {
   "attachments": {},
   "cell_type": "markdown",
   "metadata": {},
   "source": [
    "## Analytical solution"
   ]
  },
  {
   "attachments": {},
   "cell_type": "markdown",
   "metadata": {},
   "source": [
    "If your model allows for an analytical solution, you should provide here.\n",
    "\n",
    "You may use Sympy for this. Then you can characterize the solution as a function of a parameter of the model.\n",
    "\n",
    "To characterize the solution, first derive a steady state equation as a function of a parameter using Sympy.solve and then turn it into a python function by Sympy.lambdify. See the lecture notes for details. "
   ]
  },
  {
   "attachments": {},
   "cell_type": "markdown",
   "metadata": {},
   "source": [
    "## Numerical solution"
   ]
  },
  {
   "attachments": {},
   "cell_type": "markdown",
   "metadata": {},
   "source": [
    "You can always solve a model numerically. \n",
    "\n",
    "Define first the set of parameters you need. \n",
    "\n",
    "Then choose one of the optimization algorithms that we have gone through in the lectures based on what you think is most fitting for your model.\n",
    "\n",
    "Are there any problems with convergence? Does the model converge for all starting values? Make a lot of testing to figure these things out. "
   ]
  },
  {
   "attachments": {},
   "cell_type": "markdown",
   "metadata": {},
   "source": [
    "# Further analysis"
   ]
  },
  {
   "attachments": {},
   "cell_type": "markdown",
   "metadata": {},
   "source": [
    "Make detailed vizualizations of how your model changes with parameter values. \n",
    "\n",
    "Try to make an extension of the model. "
   ]
  },
  {
   "attachments": {},
   "cell_type": "markdown",
   "metadata": {},
   "source": [
    "# Conclusion"
   ]
  },
  {
   "attachments": {},
   "cell_type": "markdown",
   "metadata": {},
   "source": [
    "Add concise conclusion. "
   ]
  }
 ],
 "metadata": {
  "kernelspec": {
   "display_name": "base",
   "language": "python",
   "name": "python3"
  },
  "language_info": {
   "codemirror_mode": {
    "name": "ipython",
    "version": 3
   },
   "file_extension": ".py",
   "mimetype": "text/x-python",
   "name": "python",
   "nbconvert_exporter": "python",
   "pygments_lexer": "ipython3",
   "version": "3.9.16"
  },
  "toc-autonumbering": true,
  "vscode": {
   "interpreter": {
    "hash": "47ef90cdf3004d3f859f1fb202523c65c07ba7c22eefd261b181f4744e2d0403"
   }
  }
 },
 "nbformat": 4,
 "nbformat_minor": 4
}
