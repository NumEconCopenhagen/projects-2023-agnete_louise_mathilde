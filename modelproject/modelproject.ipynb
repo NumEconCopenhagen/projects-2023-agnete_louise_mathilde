{
 "cells": [
  {
   "cell_type": "markdown",
   "metadata": {},
   "source": [
    "# YOUR PROJECT TITLE"
   ]
  },
  {
   "attachments": {},
   "cell_type": "markdown",
   "metadata": {},
   "source": [
    "> **Note the following:** \n",
    "> 1. This is *not* meant to be an example of an actual **model analysis project**, just an example of how to structure such a project.\n",
    "> 1. Remember the general advice on structuring and commenting your code\n",
    "> 1. The `modelproject.py` file includes a function which could be used multiple times in this notebook."
   ]
  },
  {
   "cell_type": "markdown",
   "metadata": {},
   "source": [
    "Imports and set magics:"
   ]
  },
  {
   "cell_type": "code",
   "execution_count": 1,
   "metadata": {},
   "outputs": [],
   "source": [
    "import numpy as np\n",
    "import sympy as sm\n",
    "\n",
    "from scipy import linalg\n",
    "from scipy import optimize\n",
    "\n",
    "# autoreload modules when code is run\n",
    "%load_ext autoreload\n",
    "%autoreload 2\n",
    "\n",
    "# local modules\n",
    "import modelproject\n",
    "\n",
    "from types import SimpleNamespace\n",
    "import time\n",
    "\n",
    "import matplotlib.pyplot as plt\n",
    "from matplotlib import cm\n",
    "from mpl_toolkits.mplot3d import Axes3D\n",
    "\n",
    "plt.rcParams.update({\"axes.grid\":True,\"grid.color\":\"black\",\"grid.alpha\":\"0.25\",\"grid.linestyle\":\"--\"})\n",
    "plt.rcParams.update({'font.size': 14})\n"
   ]
  },
  {
   "cell_type": "markdown",
   "metadata": {},
   "source": [
    "# Model description"
   ]
  },
  {
   "attachments": {},
   "cell_type": "markdown",
   "metadata": {},
   "source": [
    "**Write out the model in equations here.** \n",
    "\n",
    "Make sure you explain well the purpose of the model and comment so that other students who may not have seen it before can follow.  \n",
    "\n",
    "The goods in this model are wine and cloth.\n",
    "\n",
    "Find the optimal level of trade between England and Portugal, when Portugal has an absolut advantage in both goods, but England has a comparative one in one of the goods. \n",
    "\n",
    "The table below contains the number of hours each coutry need to put into make 1 of the two goods. \n",
    "\n",
    "| Country   | Cloth | Wine |      \n",
    "|-----------|-------|------|      \n",
    "| England   | 100   | 120  |           \n",
    "| Portugal  | 90    | 80   |\n",
    "     \n",
    "| Country   | Cloth | Wine |\n",
    "|-----------|-------|------|\n",
    "| England   | 1     | 1.2  |\n",
    "| Portugal  | 1     | 8/9  |\n",
    "\n",
    "If no trade is happening, England requires 220 hours of work to produce one unit each good, and Portugal requires 170 hours of work to produce the same quantities.\n",
    "\n",
    "If they worked the same number of hours, and traded, taking advantage of their comparative advantages, what would the new comsumption bundels look like?"
   ]
  },
  {
   "cell_type": "code",
   "execution_count": 15,
   "metadata": {},
   "outputs": [
    {
     "name": "stdout",
     "output_type": "stream",
     "text": [
      "Portugal produces inf units of wine and 0.53 units of cloth.\n",
      "England produces inf units of wine and 1.06 units of cloth.\n"
     ]
    },
    {
     "name": "stderr",
     "output_type": "stream",
     "text": [
      "C:\\Users\\Louise Boe Prahl\\AppData\\Local\\Temp\\ipykernel_7680\\1631782191.py:7: RuntimeWarning: divide by zero encountered in double_scalars\n",
      "  wine_p = 80 / x[0]\n",
      "C:\\Users\\Louise Boe Prahl\\AppData\\Local\\Temp\\ipykernel_7680\\1631782191.py:8: RuntimeWarning: divide by zero encountered in double_scalars\n",
      "  wine_e = 1.2 * x[1] / x[0]\n",
      "C:\\Users\\Louise Boe Prahl\\AppData\\Local\\Temp\\ipykernel_7680\\1631782191.py:35: RuntimeWarning: divide by zero encountered in double_scalars\n",
      "  wine_p = 80 / x_opt\n",
      "C:\\Users\\Louise Boe Prahl\\AppData\\Local\\Temp\\ipykernel_7680\\1631782191.py:36: RuntimeWarning: divide by zero encountered in double_scalars\n",
      "  wine_e = (120 / 100) * y_opt / x_opt\n"
     ]
    }
   ],
   "source": [
    "from scipy.optimize import minimize\n",
    "\n",
    "# Define the objective function to maximize (i.e., the negative of the total production of both countries)\n",
    "def objective(x):\n",
    "    wine_p = 80 / x[0]\n",
    "    wine_e = 1.2 * x[1] / x[0]\n",
    "    cloth_p = 90 / (170 - x[0])\n",
    "    cloth_e = 1 * (220 - x[1]) / (170 - x[0])\n",
    "    total_production = wine_p + cloth_p + wine_e + cloth_e\n",
    "    return -total_production\n",
    "\n",
    "# Define the constraints on x (the number of hours Portugal spends on wine)\n",
    "def constraint(x):\n",
    "    return 170 - x[0]\n",
    "\n",
    "# Define the bounds on x (the total number of hours Portugal spends on wine and cloth, respectively)\n",
    "bounds = [(0, 170), (0, 220)]\n",
    "\n",
    "# Define the initial guess for x (the number of hours Portugal spends on wine and the number of hours England spends on cloth)\n",
    "x0 = [1, 2]\n",
    "\n",
    "# Define the constraints dictionary\n",
    "cons = [{'type': 'ineq', 'fun': constraint}]\n",
    "\n",
    "# Minimize the objective function subject to the constraints using the SLSQP algorithm\n",
    "result = minimize(objective, x0, method='SLSQP', bounds=bounds, constraints=cons)\n",
    "\n",
    "# Extract the optimal values of x (the number of hours Portugal spends on wine and the number of hours England spends on cloth)\n",
    "x_opt = result.x[0]\n",
    "y_opt = result.x[1]\n",
    "\n",
    "# Calculate the optimal production levels of wine and cloth for each country\n",
    "wine_p = 80 / x_opt\n",
    "wine_e = (120 / 100) * y_opt / x_opt\n",
    "cloth_p = 90 / (170 - x_opt)\n",
    "cloth_e = (100 / 120) * (220 - y_opt) / (170 - x_opt)\n",
    "\n",
    "# Print the results\n",
    "print(\"Portugal produces {:.2f} units of wine and {:.2f} units of cloth.\".format(wine_p, cloth_p))\n",
    "print(\"England produces {:.2f} units of wine and {:.2f} units of cloth.\".format(wine_e, cloth_e))\n",
    "\n",
    "# # Plot the contour plot of the objective function\n",
    "# x = np.linspace(0.8, 1.3, 100)\n",
    "# y = np.linspace(0.8, 1.3, 100)\n",
    "# X, Y = np.meshgrid(x, y)\n",
    "# Z = objective(X)\n",
    "\n",
    "# plt.figure()\n",
    "# plt.contour(X, Y, Z, levels=30)\n",
    "# plt.plot(result.x, objective(result.x), 'ro')\n",
    "# plt.xlabel('Terms of trade (wine/cloth)')\n",
    "# plt.ylabel('Terms of trade (cloth/wine)')\n",
    "# plt.show()\n",
    "\n",
    "\n"
   ]
  },
  {
   "cell_type": "code",
   "execution_count": 5,
   "metadata": {},
   "outputs": [
    {
     "name": "stdout",
     "output_type": "stream",
     "text": [
      "Final payoffs: Player 1 = 0 , Player 2 = 0\n",
      "Final state: ('scissors', 'scissors')\n"
     ]
    }
   ],
   "source": [
    "import random\n",
    "\n",
    "# Define the game structure and possible actions\n",
    "actions = [\"rock\", \"paper\", \"scissors\"]\n",
    "payoff_matrix = {\n",
    "    (\"rock\", \"rock\"): (0, 0),\n",
    "    (\"rock\", \"paper\"): (-1, 1),\n",
    "    (\"rock\", \"scissors\"): (1, -1),\n",
    "    (\"paper\", \"rock\"): (1, -1),\n",
    "    (\"paper\", \"paper\"): (0, 0),\n",
    "    (\"paper\", \"scissors\"): (-1, 1),\n",
    "    (\"scissors\", \"rock\"): (-1, 1),\n",
    "    (\"scissors\", \"paper\"): (1, -1),\n",
    "    (\"scissors\", \"scissors\"): (0, 0)\n",
    "}\n",
    "\n",
    "# Initialize the game\n",
    "state = (\"unknown\", \"unknown\") # the initial state is unknown\n",
    "player1_payoff = 0\n",
    "player2_payoff = 0\n",
    "\n",
    "while state[0] == \"unknown\" or state[1] == \"unknown\":\n",
    "    # Agent 1 takes action\n",
    "    player1_action = random.choice(actions)\n",
    "\n",
    "    # Agent 2 takes action\n",
    "    if state[1] == \"unknown\":\n",
    "        player2_action = random.choice(actions)\n",
    "    else:\n",
    "        player2_action = max(actions, key=lambda x: payoff_matrix[(player1_action, x)][1])\n",
    "\n",
    "    # Determine the outcome\n",
    "    outcome = payoff_matrix[(player1_action, player2_action)]\n",
    "    player1_payoff += outcome[0]\n",
    "    player2_payoff += outcome[1]\n",
    "\n",
    "    # Update the state\n",
    "    if state[0] == \"unknown\":\n",
    "        state = (player1_action, \"unknown\")\n",
    "    else:\n",
    "        state = (state[0], player2_action)\n",
    "\n",
    "# Print the final payoffs and state\n",
    "print(\"Final payoffs: Player 1 =\", player1_payoff, \", Player 2 =\", player2_payoff)\n",
    "print(\"Final state:\", state)\n"
   ]
  },
  {
   "cell_type": "markdown",
   "metadata": {},
   "source": [
    "## Analytical solution"
   ]
  },
  {
   "cell_type": "markdown",
   "metadata": {},
   "source": [
    "If your model allows for an analytical solution, you should provide here.\n",
    "\n",
    "You may use Sympy for this. Then you can characterize the solution as a function of a parameter of the model.\n",
    "\n",
    "To characterize the solution, first derive a steady state equation as a function of a parameter using Sympy.solve and then turn it into a python function by Sympy.lambdify. See the lecture notes for details. "
   ]
  },
  {
   "cell_type": "markdown",
   "metadata": {},
   "source": [
    "## Numerical solution"
   ]
  },
  {
   "cell_type": "markdown",
   "metadata": {},
   "source": [
    "You can always solve a model numerically. \n",
    "\n",
    "Define first the set of parameters you need. \n",
    "\n",
    "Then choose one of the optimization algorithms that we have gone through in the lectures based on what you think is most fitting for your model.\n",
    "\n",
    "Are there any problems with convergence? Does the model converge for all starting values? Make a lot of testing to figure these things out. "
   ]
  },
  {
   "cell_type": "markdown",
   "metadata": {},
   "source": [
    "# Further analysis"
   ]
  },
  {
   "cell_type": "markdown",
   "metadata": {},
   "source": [
    "Make detailed vizualizations of how your model changes with parameter values. \n",
    "\n",
    "Try to make an extension of the model. "
   ]
  },
  {
   "cell_type": "markdown",
   "metadata": {},
   "source": [
    "# Conclusion"
   ]
  },
  {
   "cell_type": "markdown",
   "metadata": {},
   "source": [
    "Add concise conclusion. "
   ]
  }
 ],
 "metadata": {
  "kernelspec": {
   "display_name": "base",
   "language": "python",
   "name": "python3"
  },
  "language_info": {
   "codemirror_mode": {
    "name": "ipython",
    "version": 3
   },
   "file_extension": ".py",
   "mimetype": "text/x-python",
   "name": "python",
   "nbconvert_exporter": "python",
   "pygments_lexer": "ipython3",
   "version": "3.9.16"
  },
  "toc-autonumbering": true,
  "vscode": {
   "interpreter": {
    "hash": "47ef90cdf3004d3f859f1fb202523c65c07ba7c22eefd261b181f4744e2d0403"
   }
  }
 },
 "nbformat": 4,
 "nbformat_minor": 4
}
