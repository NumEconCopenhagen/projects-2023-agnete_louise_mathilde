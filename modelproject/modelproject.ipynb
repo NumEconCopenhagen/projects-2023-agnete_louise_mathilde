{
 "cells": [
  {
   "attachments": {},
   "cell_type": "markdown",
   "metadata": {},
   "source": [
    "# Comparative Advantages and Trade"
   ]
  },
  {
   "attachments": {},
   "cell_type": "markdown",
   "metadata": {},
   "source": [
    "In this project we show the results from by David Ricardos theory on Comparative Advantages in trade."
   ]
  },
  {
   "attachments": {},
   "cell_type": "markdown",
   "metadata": {},
   "source": [
    "Imports and set magics:"
   ]
  },
  {
   "cell_type": "code",
   "execution_count": 74,
   "metadata": {},
   "outputs": [
    {
     "name": "stdout",
     "output_type": "stream",
     "text": [
      "The autoreload extension is already loaded. To reload it, use:\n",
      "  %reload_ext autoreload\n"
     ]
    }
   ],
   "source": [
    "from mpl_toolkits.mplot3d import Axes3D\n",
    "from matplotlib import cm\n",
    "import matplotlib.pyplot as plt\n",
    "import time\n",
    "from types import SimpleNamespace\n",
    "\n",
    "import no_trade as nt\n",
    "import modelproject as moc\n",
    "\n",
    "import numpy as np\n",
    "import sympy as sm\n",
    "\n",
    "from scipy import linalg\n",
    "from scipy import optimize\n",
    "from scipy.optimize import minimize\n",
    "\n",
    "# autoreload modules when code is run\n",
    "%load_ext autoreload\n",
    "%autoreload 2\n",
    "\n",
    "# local modules\n",
    "plt.rcParams.update({\"axes.grid\": True, \"grid.color\": \"black\",\n",
    "                    \"grid.alpha\": \"0.25\", \"grid.linestyle\": \"--\"})\n",
    "plt.rcParams.update({'font.size': 14})\n"
   ]
  },
  {
   "attachments": {},
   "cell_type": "markdown",
   "metadata": {},
   "source": [
    "# Model description"
   ]
  },
  {
   "attachments": {},
   "cell_type": "markdown",
   "metadata": {},
   "source": [
    "*Comparative advantages and trade* \n",
    "\n",
    "This project models the optimal production of wine and cloth respectively for England and Portugal when the two countries trade with each other. The table below contrains the number of hours each country spend in producing one piece of the two goods:\n",
    "\n",
    "| Country   | Cloth | Wine |      \n",
    "|-----------|-------|------|      \n",
    "| England   | 100   | 120  |           \n",
    "| Portugal  | 90    | 80   |\n",
    "\n",
    "England spends 100 hours in making one piece of cloth and 120 hours in making one bottle of wine. Portugal spends 90 hours producing one piece of cloth and 80 hours producing one bottle of wine. Portugal has an absolut advantage in production of both of the two goods. In the absense of trade, England requires 220 hours of work to produce one unit of each good, and Portugal requires 170 hours of work to produce the same quantities.\n",
    "\n",
    "If the perspective is one year (i.e. 8760 hours), the maximum output of each of the two goods for each of the countries are as in the table below:\n",
    "\n",
    "| Country   | Cloth | Wine |      \n",
    "|-----------|-------|------|      \n",
    "| England   | 87.6  | 73   |           \n",
    "| Portugal  | 97.3  | 109.5|\n",
    "\n",
    "If England speds all their time producing cloth, they ca produce 87.6 pieces of cloth, and if they spend all their time producing wine, they can make 73 bottles in one year. If Portugal spends all their time producing cloth, they can make 97.3 pieces in one year, and if they spend all their time producing wine, they can make 109.5 bottles of wine. \n",
    "\n",
    "*Opportunity Costs*\n",
    "\n",
    "The table below displays the opportunity costs for each country for both of the goods. \n",
    "\n",
    "| Country   | OC Cloth | OC Wine |      \n",
    "|-----------|----------|---------|      \n",
    "| England   | 0.83     | 1.2     |           \n",
    "| Portugal  | 1.13     | 0.89    |\n",
    "\n",
    "It \"costs\" England 0.83 bottles of wine to produce one piece of cloth whereas it costs Portugal 1.13 bottles of wine to produce one piece of cloth. This implies that England has a comparative advantage in producing cloth. \n",
    "\n",
    "It \"costs\" England 1.2 pieces of clothing to produce one bottle of wine whereas it costs Portugal 0.89 pieces of clothing to produce one bottle of wine. This implies that Portugal has a comparative advantage in producing wine. \n",
    "\n",
    "If both countries specialize in their comparative advantage and then trade, they can get outcomes that are beyond each of their individual production possibility frontier (PPF) and thereby achieve a higher utility level compared to the case in which they do not trade with each other. \n",
    "\n",
    "The market \"price\" of cloth when trading will be in between 0.83 and 1.13. In this interval, both parties benefit from the trade as England gets a higher \"price\" than what it \"costs\" to produce it, and Portugal \"buy\" the cloth cheaper than what it would have cost them to produce it themselves. The market \"price\" for wine when trading will be in between 0.89 and 1.2 for the same reasons as with cloth - just the other way around. To summarize; the market \"prices\" in these intervals make sence for both countries because the \"prices\" are lower than their opportunity cost of producing it themselves."
   ]
  },
  {
   "cell_type": "code",
   "execution_count": 75,
   "metadata": {},
   "outputs": [
    {
     "name": "stdout",
     "output_type": "stream",
     "text": [
      "Optimization terminated successfully    (Exit mode 0)\n",
      "            Current function value: -51.61879502634704\n",
      "            Iterations: 8\n",
      "            Function evaluations: 24\n",
      "            Gradient evaluations: 8\n",
      "Portugal produces 54.75 units of wine and 48.67 units of cloth.\n",
      "And, the resulting utility level is 51.62\n",
      "\n",
      "\n",
      "Optimization terminated successfully    (Exit mode 0)\n",
      "            Current function value: -39.98374669812673\n",
      "            Iterations: 10\n",
      "            Function evaluations: 30\n",
      "            Gradient evaluations: 10\n",
      "England produces 36.50 units of wine and 43.80 units of cloth.\n",
      "And, the resulting utility level is 39.98\n"
     ]
    }
   ],
   "source": [
    "from no_trade import no_trade_class as ntc\n",
    "ntc.portugal_production()\n",
    "print('\\n')\n",
    "ntc.england_production()"
   ]
  },
  {
   "attachments": {},
   "cell_type": "markdown",
   "metadata": {},
   "source": [
    "Now, according to Ricardo if they were to trade with England they would be able to consume more of both output, given that both England and Portugal were to produce more of the good inwhich they had a comparative advantage. \n",
    "\n",
    "If they worked the same number of hours, and traded, taking advantage of their comparative advantages, what would the new comsumption bundels look like?"
   ]
  },
  {
   "cell_type": "code",
   "execution_count": 86,
   "metadata": {},
   "outputs": [
    {
     "name": "stdout",
     "output_type": "stream",
     "text": [
      "Optimization terminated successfully    (Exit mode 0)\n",
      "            Current function value: -106.43253557075883\n",
      "            Iterations: 12\n",
      "            Function evaluations: 108\n",
      "            Gradient evaluations: 12\n",
      "The optimal production levels for Portugal are 64.22 units of wine and 50.37 units of cloth\n",
      "The export of wine from Portugal to England is 30.74 units\n",
      "The export of cloth from Portugal to England is 19.71 units\n",
      "The consumption levels for Portugal are 54.75 units of wine and 65.70 units of cloth\n",
      "The utility for Portugal is 59.98\n",
      "\n",
      "\n",
      "The optimal production levels for England are 39.80 units of wine and 59.13 units of cloth\n",
      "The export of wine from England to Portugal is 21.27 units\n",
      "The export of cloth from England to Portugal is 35.04 units\n",
      "The consumption levels for England are 49.28 units of wine and 43.80 units of cloth\n",
      "The utility for England is 46.46\n"
     ]
    }
   ],
   "source": [
    "moc.optimal_trade(do_plot=False, do_print=True)"
   ]
  },
  {
   "attachments": {},
   "cell_type": "markdown",
   "metadata": {},
   "source": [
    "# Further analysis"
   ]
  },
  {
   "attachments": {},
   "cell_type": "markdown",
   "metadata": {},
   "source": [
    "Make detailed vizualizations of how your model changes with parameter values. \n",
    "\n",
    "Try to make an extension of the model. \n",
    "\n",
    "\n",
    "Holding Englands preferences fixed at $\\alpha = 0.5$, how does the optimal production/consumption for each of the countries change.\n",
    "\n"
   ]
  },
  {
   "cell_type": "code",
   "execution_count": 90,
   "metadata": {},
   "outputs": [
    {
     "ename": "ValueError",
     "evalue": "The user-provided objective function must return a scalar value.",
     "output_type": "error",
     "traceback": [
      "\u001b[1;31m---------------------------------------------------------------------------\u001b[0m",
      "\u001b[1;31mValueError\u001b[0m                                Traceback (most recent call last)",
      "File \u001b[1;32mc:\\Users\\Louise Boe Prahl\\anaconda3\\lib\\site-packages\\scipy\\optimize\\_differentiable_functions.py:141\u001b[0m, in \u001b[0;36mScalarFunction.__init__.<locals>.fun_wrapped\u001b[1;34m(x)\u001b[0m\n\u001b[0;32m    140\u001b[0m \u001b[39mtry\u001b[39;00m:\n\u001b[1;32m--> 141\u001b[0m     fx \u001b[39m=\u001b[39m np\u001b[39m.\u001b[39;49masarray(fx)\u001b[39m.\u001b[39;49mitem()\n\u001b[0;32m    142\u001b[0m \u001b[39mexcept\u001b[39;00m (\u001b[39mTypeError\u001b[39;00m, \u001b[39mValueError\u001b[39;00m) \u001b[39mas\u001b[39;00m e:\n",
      "\u001b[1;31mValueError\u001b[0m: can only convert an array of size 1 to a Python scalar",
      "\nThe above exception was the direct cause of the following exception:\n",
      "\u001b[1;31mValueError\u001b[0m                                Traceback (most recent call last)",
      "Cell \u001b[1;32mIn[90], line 1\u001b[0m\n\u001b[1;32m----> 1\u001b[0m moc\u001b[39m.\u001b[39;49mDifferent_alpha_p(do_plot\u001b[39m=\u001b[39;49m\u001b[39mTrue\u001b[39;49;00m)\n",
      "File \u001b[1;32mc:\\Users\\Louise Boe Prahl\\Desktop\\Python\\projects-2023-agnete_louise_mathilde\\modelproject\\modelproject.py:202\u001b[0m, in \u001b[0;36mDifferent_alpha_p\u001b[1;34m(do_plot)\u001b[0m\n\u001b[0;32m    200\u001b[0m model\u001b[39m.\u001b[39mpar\u001b[39m.\u001b[39malpha_p_vec \u001b[39m=\u001b[39m alpha\n\u001b[0;32m    201\u001b[0m \u001b[39m# Solve for optimal choices\u001b[39;00m\n\u001b[1;32m--> 202\u001b[0m opt \u001b[39m=\u001b[39m optimal_trade(do_plot\u001b[39m=\u001b[39;49m\u001b[39mTrue\u001b[39;49;00m, do_print\u001b[39m=\u001b[39;49m\u001b[39mFalse\u001b[39;49;00m)\n\u001b[0;32m    203\u001b[0m \u001b[39m# production\u001b[39;00m\n\u001b[0;32m    204\u001b[0m sol\u001b[39m.\u001b[39mwine_p_pro[i] \u001b[39m=\u001b[39m opt\u001b[39m.\u001b[39mwine_p_pro\n",
      "File \u001b[1;32mc:\\Users\\Louise Boe Prahl\\Desktop\\Python\\projects-2023-agnete_louise_mathilde\\modelproject\\modelproject.py:117\u001b[0m, in \u001b[0;36moptimal_trade\u001b[1;34m(do_plot, do_print)\u001b[0m\n\u001b[0;32m    113\u001b[0m x0 \u001b[39m=\u001b[39m [\u001b[39m2\u001b[39m, \u001b[39m2\u001b[39m, \u001b[39m2\u001b[39m, \u001b[39m2\u001b[39m,\n\u001b[0;32m    114\u001b[0m     \u001b[39m2\u001b[39m, \u001b[39m2\u001b[39m, \u001b[39m2\u001b[39m, \u001b[39m2\u001b[39m]\n\u001b[0;32m    116\u001b[0m \u001b[39m# Minimize the negative utility function subject to the budget constraint using the SLSQP algorithm\u001b[39;00m\n\u001b[1;32m--> 117\u001b[0m result \u001b[39m=\u001b[39m optimize\u001b[39m.\u001b[39;49mminimize(utility, x0,\n\u001b[0;32m    118\u001b[0m                         method\u001b[39m=\u001b[39;49m\u001b[39m'\u001b[39;49m\u001b[39mSLSQP\u001b[39;49m\u001b[39m'\u001b[39;49m,\n\u001b[0;32m    119\u001b[0m                         constraints\u001b[39m=\u001b[39;49mcons,\n\u001b[0;32m    120\u001b[0m                         bounds\u001b[39m=\u001b[39;49mbounds,\n\u001b[0;32m    121\u001b[0m                         options\u001b[39m=\u001b[39;49m{\u001b[39m'\u001b[39;49m\u001b[39mdisp\u001b[39;49m\u001b[39m'\u001b[39;49m:\u001b[39mTrue\u001b[39;49;00m},\n\u001b[0;32m    122\u001b[0m                         tol\u001b[39m=\u001b[39;49m\u001b[39m1e-8\u001b[39;49m)\n\u001b[0;32m    124\u001b[0m \u001b[39m# Extract the optimal values of x\u001b[39;00m\n\u001b[0;32m    125\u001b[0m x_opt_p \u001b[39m=\u001b[39m result\u001b[39m.\u001b[39mx\n",
      "File \u001b[1;32mc:\\Users\\Louise Boe Prahl\\anaconda3\\lib\\site-packages\\scipy\\optimize\\_minimize.py:708\u001b[0m, in \u001b[0;36mminimize\u001b[1;34m(fun, x0, args, method, jac, hess, hessp, bounds, constraints, tol, callback, options)\u001b[0m\n\u001b[0;32m    705\u001b[0m     res \u001b[39m=\u001b[39m _minimize_cobyla(fun, x0, args, constraints, callback\u001b[39m=\u001b[39mcallback,\n\u001b[0;32m    706\u001b[0m                             \u001b[39m*\u001b[39m\u001b[39m*\u001b[39moptions)\n\u001b[0;32m    707\u001b[0m \u001b[39melif\u001b[39;00m meth \u001b[39m==\u001b[39m \u001b[39m'\u001b[39m\u001b[39mslsqp\u001b[39m\u001b[39m'\u001b[39m:\n\u001b[1;32m--> 708\u001b[0m     res \u001b[39m=\u001b[39m _minimize_slsqp(fun, x0, args, jac, bounds,\n\u001b[0;32m    709\u001b[0m                           constraints, callback\u001b[39m=\u001b[39mcallback, \u001b[39m*\u001b[39m\u001b[39m*\u001b[39moptions)\n\u001b[0;32m    710\u001b[0m \u001b[39melif\u001b[39;00m meth \u001b[39m==\u001b[39m \u001b[39m'\u001b[39m\u001b[39mtrust-constr\u001b[39m\u001b[39m'\u001b[39m:\n\u001b[0;32m    711\u001b[0m     res \u001b[39m=\u001b[39m _minimize_trustregion_constr(fun, x0, args, jac, hess, hessp,\n\u001b[0;32m    712\u001b[0m                                        bounds, constraints,\n\u001b[0;32m    713\u001b[0m                                        callback\u001b[39m=\u001b[39mcallback, \u001b[39m*\u001b[39m\u001b[39m*\u001b[39moptions)\n",
      "File \u001b[1;32mc:\\Users\\Louise Boe Prahl\\anaconda3\\lib\\site-packages\\scipy\\optimize\\_slsqp_py.py:374\u001b[0m, in \u001b[0;36m_minimize_slsqp\u001b[1;34m(func, x0, args, jac, bounds, constraints, maxiter, ftol, iprint, disp, eps, callback, finite_diff_rel_step, **unknown_options)\u001b[0m\n\u001b[0;32m    371\u001b[0m     xu[infbnd[:, \u001b[39m1\u001b[39m]] \u001b[39m=\u001b[39m np\u001b[39m.\u001b[39mnan\n\u001b[0;32m    373\u001b[0m \u001b[39m# ScalarFunction provides function and gradient evaluation\u001b[39;00m\n\u001b[1;32m--> 374\u001b[0m sf \u001b[39m=\u001b[39m _prepare_scalar_function(func, x, jac\u001b[39m=\u001b[39;49mjac, args\u001b[39m=\u001b[39;49margs, epsilon\u001b[39m=\u001b[39;49meps,\n\u001b[0;32m    375\u001b[0m                               finite_diff_rel_step\u001b[39m=\u001b[39;49mfinite_diff_rel_step,\n\u001b[0;32m    376\u001b[0m                               bounds\u001b[39m=\u001b[39;49mnew_bounds)\n\u001b[0;32m    377\u001b[0m \u001b[39m# gh11403 SLSQP sometimes exceeds bounds by 1 or 2 ULP, make sure this\u001b[39;00m\n\u001b[0;32m    378\u001b[0m \u001b[39m# doesn't get sent to the func/grad evaluator.\u001b[39;00m\n\u001b[0;32m    379\u001b[0m wrapped_fun \u001b[39m=\u001b[39m _clip_x_for_func(sf\u001b[39m.\u001b[39mfun, new_bounds)\n",
      "File \u001b[1;32mc:\\Users\\Louise Boe Prahl\\anaconda3\\lib\\site-packages\\scipy\\optimize\\_optimize.py:263\u001b[0m, in \u001b[0;36m_prepare_scalar_function\u001b[1;34m(fun, x0, jac, args, bounds, epsilon, finite_diff_rel_step, hess)\u001b[0m\n\u001b[0;32m    259\u001b[0m     bounds \u001b[39m=\u001b[39m (\u001b[39m-\u001b[39mnp\u001b[39m.\u001b[39minf, np\u001b[39m.\u001b[39minf)\n\u001b[0;32m    261\u001b[0m \u001b[39m# ScalarFunction caches. Reuse of fun(x) during grad\u001b[39;00m\n\u001b[0;32m    262\u001b[0m \u001b[39m# calculation reduces overall function evaluations.\u001b[39;00m\n\u001b[1;32m--> 263\u001b[0m sf \u001b[39m=\u001b[39m ScalarFunction(fun, x0, args, grad, hess,\n\u001b[0;32m    264\u001b[0m                     finite_diff_rel_step, bounds, epsilon\u001b[39m=\u001b[39;49mepsilon)\n\u001b[0;32m    266\u001b[0m \u001b[39mreturn\u001b[39;00m sf\n",
      "File \u001b[1;32mc:\\Users\\Louise Boe Prahl\\anaconda3\\lib\\site-packages\\scipy\\optimize\\_differentiable_functions.py:158\u001b[0m, in \u001b[0;36mScalarFunction.__init__\u001b[1;34m(self, fun, x0, args, grad, hess, finite_diff_rel_step, finite_diff_bounds, epsilon)\u001b[0m\n\u001b[0;32m    155\u001b[0m     \u001b[39mself\u001b[39m\u001b[39m.\u001b[39mf \u001b[39m=\u001b[39m fun_wrapped(\u001b[39mself\u001b[39m\u001b[39m.\u001b[39mx)\n\u001b[0;32m    157\u001b[0m \u001b[39mself\u001b[39m\u001b[39m.\u001b[39m_update_fun_impl \u001b[39m=\u001b[39m update_fun\n\u001b[1;32m--> 158\u001b[0m \u001b[39mself\u001b[39;49m\u001b[39m.\u001b[39;49m_update_fun()\n\u001b[0;32m    160\u001b[0m \u001b[39m# Gradient evaluation\u001b[39;00m\n\u001b[0;32m    161\u001b[0m \u001b[39mif\u001b[39;00m callable(grad):\n",
      "File \u001b[1;32mc:\\Users\\Louise Boe Prahl\\anaconda3\\lib\\site-packages\\scipy\\optimize\\_differentiable_functions.py:251\u001b[0m, in \u001b[0;36mScalarFunction._update_fun\u001b[1;34m(self)\u001b[0m\n\u001b[0;32m    249\u001b[0m \u001b[39mdef\u001b[39;00m \u001b[39m_update_fun\u001b[39m(\u001b[39mself\u001b[39m):\n\u001b[0;32m    250\u001b[0m     \u001b[39mif\u001b[39;00m \u001b[39mnot\u001b[39;00m \u001b[39mself\u001b[39m\u001b[39m.\u001b[39mf_updated:\n\u001b[1;32m--> 251\u001b[0m         \u001b[39mself\u001b[39;49m\u001b[39m.\u001b[39;49m_update_fun_impl()\n\u001b[0;32m    252\u001b[0m         \u001b[39mself\u001b[39m\u001b[39m.\u001b[39mf_updated \u001b[39m=\u001b[39m \u001b[39mTrue\u001b[39;00m\n",
      "File \u001b[1;32mc:\\Users\\Louise Boe Prahl\\anaconda3\\lib\\site-packages\\scipy\\optimize\\_differentiable_functions.py:155\u001b[0m, in \u001b[0;36mScalarFunction.__init__.<locals>.update_fun\u001b[1;34m()\u001b[0m\n\u001b[0;32m    154\u001b[0m \u001b[39mdef\u001b[39;00m \u001b[39mupdate_fun\u001b[39m():\n\u001b[1;32m--> 155\u001b[0m     \u001b[39mself\u001b[39m\u001b[39m.\u001b[39mf \u001b[39m=\u001b[39m fun_wrapped(\u001b[39mself\u001b[39;49m\u001b[39m.\u001b[39;49mx)\n",
      "File \u001b[1;32mc:\\Users\\Louise Boe Prahl\\anaconda3\\lib\\site-packages\\scipy\\optimize\\_differentiable_functions.py:143\u001b[0m, in \u001b[0;36mScalarFunction.__init__.<locals>.fun_wrapped\u001b[1;34m(x)\u001b[0m\n\u001b[0;32m    141\u001b[0m         fx \u001b[39m=\u001b[39m np\u001b[39m.\u001b[39masarray(fx)\u001b[39m.\u001b[39mitem()\n\u001b[0;32m    142\u001b[0m     \u001b[39mexcept\u001b[39;00m (\u001b[39mTypeError\u001b[39;00m, \u001b[39mValueError\u001b[39;00m) \u001b[39mas\u001b[39;00m e:\n\u001b[1;32m--> 143\u001b[0m         \u001b[39mraise\u001b[39;00m \u001b[39mValueError\u001b[39;00m(\n\u001b[0;32m    144\u001b[0m             \u001b[39m\"\u001b[39m\u001b[39mThe user-provided objective function \u001b[39m\u001b[39m\"\u001b[39m\n\u001b[0;32m    145\u001b[0m             \u001b[39m\"\u001b[39m\u001b[39mmust return a scalar value.\u001b[39m\u001b[39m\"\u001b[39m\n\u001b[0;32m    146\u001b[0m         ) \u001b[39mfrom\u001b[39;00m \u001b[39me\u001b[39;00m\n\u001b[0;32m    148\u001b[0m \u001b[39mif\u001b[39;00m fx \u001b[39m<\u001b[39m \u001b[39mself\u001b[39m\u001b[39m.\u001b[39m_lowest_f:\n\u001b[0;32m    149\u001b[0m     \u001b[39mself\u001b[39m\u001b[39m.\u001b[39m_lowest_x \u001b[39m=\u001b[39m x\n",
      "\u001b[1;31mValueError\u001b[0m: The user-provided objective function must return a scalar value."
     ]
    }
   ],
   "source": [
    "moc.Different_alpha_p(do_plot=True)"
   ]
  },
  {
   "attachments": {},
   "cell_type": "markdown",
   "metadata": {},
   "source": [
    "# Conclusion"
   ]
  },
  {
   "attachments": {},
   "cell_type": "markdown",
   "metadata": {},
   "source": [
    "Add concise conclusion. "
   ]
  }
 ],
 "metadata": {
  "kernelspec": {
   "display_name": "base",
   "language": "python",
   "name": "python3"
  },
  "language_info": {
   "codemirror_mode": {
    "name": "ipython",
    "version": 3
   },
   "file_extension": ".py",
   "mimetype": "text/x-python",
   "name": "python",
   "nbconvert_exporter": "python",
   "pygments_lexer": "ipython3",
   "version": "3.9.16"
  },
  "toc-autonumbering": true,
  "vscode": {
   "interpreter": {
    "hash": "47ef90cdf3004d3f859f1fb202523c65c07ba7c22eefd261b181f4744e2d0403"
   }
  }
 },
 "nbformat": 4,
 "nbformat_minor": 4
}
