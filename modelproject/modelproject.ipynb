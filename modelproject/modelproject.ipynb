{
 "cells": [
  {
   "attachments": {},
   "cell_type": "markdown",
   "metadata": {},
   "source": [
    "# YOUR PROJECT TITLE"
   ]
  },
  {
   "attachments": {},
   "cell_type": "markdown",
   "metadata": {},
   "source": [
    "> **Note the following:** \n",
    "> 1. This is *not* meant to be an example of an actual **model analysis project**, just an example of how to structure such a project.\n",
    "> 1. Remember the general advice on structuring and commenting your code\n",
    "> 1. The `modelproject.py` file includes a function which could be used multiple times in this notebook."
   ]
  },
  {
   "attachments": {},
   "cell_type": "markdown",
   "metadata": {},
   "source": [
    "Imports and set magics:"
   ]
  },
  {
   "cell_type": "code",
   "execution_count": 1,
   "metadata": {},
   "outputs": [],
   "source": [
    "from mpl_toolkits.mplot3d import Axes3D\n",
    "from matplotlib import cm\n",
    "import matplotlib.pyplot as plt\n",
    "import time\n",
    "from types import SimpleNamespace\n",
    "\n",
    "import no_trade as nt\n",
    "import modelproject as mp\n",
    "import numpy as np\n",
    "import sympy as sm\n",
    "\n",
    "from scipy import linalg\n",
    "from scipy import optimize\n",
    "from scipy.optimize import minimize\n",
    "\n",
    "# autoreload modules when code is run\n",
    "%load_ext autoreload\n",
    "%autoreload 2\n",
    "\n",
    "# local modules\n",
    "plt.rcParams.update({\"axes.grid\": True, \"grid.color\": \"black\",\n",
    "                    \"grid.alpha\": \"0.25\", \"grid.linestyle\": \"--\"})\n",
    "plt.rcParams.update({'font.size': 14})\n"
   ]
  },
  {
   "attachments": {},
   "cell_type": "markdown",
   "metadata": {},
   "source": [
    "# Model description"
   ]
  },
  {
   "attachments": {},
   "cell_type": "markdown",
   "metadata": {},
   "source": [
    "**Write out the model in equations here.** \n",
    "\n",
    "Make sure you explain well the purpose of the model and comment so that other students who may not have seen it before can follow.  \n",
    "\n",
    "The goods in this model are wine and cloth.\n",
    "\n",
    "Find the optimal level of trade between England and Portugal, when Portugal has an absolut advantage in both goods, but England has a comparative one in one of the goods. \n",
    "\n",
    "The table below contains the number of hours each coutry need to put into make 1 of the two goods. \n",
    "\n",
    "| Country   | Cloth | Wine |      \n",
    "|-----------|-------|------|      \n",
    "| England   | 100   | 120  |           \n",
    "| Portugal  | 90    | 80   |\n",
    "     \n",
    "| Country   | Cloth | Wine |\n",
    "|-----------|-------|------|\n",
    "| England   | 1     | 1.2  |\n",
    "| Portugal  | 1     | 8/9  |\n",
    "\n",
    "For one cloth England can make 1.2 wine, so they will buy cloth for more than 1.2 wine from Portugal. \n",
    "\n",
    "For one cloth Portugal can make 8/9 wine, so they will not buy cloth for more than 8/9 wine from England.\n",
    "\n",
    "If no trade is happening, England requires 220 hours of work to produce one unit each good, and Portugal requires 170 hours of work to produce the same quantities.\n",
    "\n",
    "If they do not trade and work 1000 hours, how much can they each consume? \n"
   ]
  },
  {
   "cell_type": "code",
   "execution_count": 2,
   "metadata": {},
   "outputs": [
    {
     "name": "stdout",
     "output_type": "stream",
     "text": [
      "Optimization terminated successfully    (Exit mode 0)\n",
      "            Current function value: -5.892556509601771\n",
      "            Iterations: 19\n",
      "            Function evaluations: 67\n",
      "            Gradient evaluations: 19\n",
      "Portugal produces 6.25 units of wine and 5.56 units of cloth. And, the resulting utility level is 5.89\n",
      "\n",
      "\n",
      "Optimization terminated successfully    (Exit mode 0)\n",
      "            Current function value: -4.56435464565503\n",
      "            Iterations: 19\n",
      "            Function evaluations: 67\n",
      "            Gradient evaluations: 19\n",
      "England produces 4.17 units of wine and 5.00 units of cloth. And, the resulting utility level is 4.56\n"
     ]
    }
   ],
   "source": [
    "nt.portugal_production()\n",
    "print('\\n')\n",
    "nt.england_production()"
   ]
  },
  {
   "attachments": {},
   "cell_type": "markdown",
   "metadata": {},
   "source": [
    "Now, according to Ricardo if they were to trade with England they would be able to consume more of both output, given that both England and Portugal were to produce more of the good inwhich they had a comparative advantage. \n",
    "\n",
    "If they worked the same number of hours, and traded, taking advantage of their comparative advantages, what would the new comsumption bundels look like?"
   ]
  },
  {
   "cell_type": "code",
   "execution_count": 6,
   "metadata": {},
   "outputs": [
    {
     "name": "stdout",
     "output_type": "stream",
     "text": [
      "Optimization terminated successfully    (Exit mode 0)\n",
      "            Current function value: -31.320497042341618\n",
      "            Iterations: 10\n",
      "            Function evaluations: 90\n",
      "            Gradient evaluations: 10\n",
      "The optimal production levels for Portugal are 12.07 units of wine and 0.39 units of cloth\n",
      "The consumption levels for Portugal are 6.13 units of wine and 5.11 units of cloth\n",
      "The utility for Portugal is 5.60\n",
      "\n",
      "\n",
      "The optimal production levels for England are 0.00 units of wine and 10.00 units of cloth\n",
      "The consumption levels for England are 5.94 units of wine and 5.28 units of cloth\n",
      "The utility for England is 5.60\n"
     ]
    }
   ],
   "source": [
    "import modelproject_copy as moc\n",
    "moc.optimal_trade()"
   ]
  },
  {
   "cell_type": "code",
   "execution_count": 73,
   "metadata": {},
   "outputs": [
    {
     "name": "stdout",
     "output_type": "stream",
     "text": [
      "Final payoffs: Player 1 = 0 , Player 2 = 0\n",
      "Final state: ('paper', 'rock')\n"
     ]
    }
   ],
   "source": [
    "import random\n",
    "\n",
    "# Define the game structure and possible actions\n",
    "actions = [\"rock\", \"paper\", \"scissors\"]\n",
    "payoff_matrix = {\n",
    "    (\"rock\", \"rock\"): (0, 0),\n",
    "    (\"rock\", \"paper\"): (-1, 1),\n",
    "    (\"rock\", \"scissors\"): (1, -1),\n",
    "    (\"paper\", \"rock\"): (1, -1),\n",
    "    (\"paper\", \"paper\"): (0, 0),\n",
    "    (\"paper\", \"scissors\"): (-1, 1),\n",
    "    (\"scissors\", \"rock\"): (-1, 1),\n",
    "    (\"scissors\", \"paper\"): (1, -1),\n",
    "    (\"scissors\", \"scissors\"): (0, 0)\n",
    "}\n",
    "\n",
    "# Initialize the game\n",
    "state = (\"unknown\", \"unknown\")  # the initial state is unknown\n",
    "player1_payoff = 0\n",
    "player2_payoff = 0\n",
    "\n",
    "while state[0] == \"unknown\" or state[1] == \"unknown\":\n",
    "    # Agent 1 takes action\n",
    "    player1_action = random.choice(actions)\n",
    "\n",
    "    # Agent 2 takes action\n",
    "    if state[1] == \"unknown\":\n",
    "        player2_action = random.choice(actions)\n",
    "    else:\n",
    "        player2_action = max(\n",
    "            actions, key=lambda x: payoff_matrix[(player1_action, x)][1])\n",
    "\n",
    "    # Determine the outcome\n",
    "    outcome = payoff_matrix[(player1_action, player2_action)]\n",
    "    player1_payoff += outcome[0]\n",
    "    player2_payoff += outcome[1]\n",
    "\n",
    "    # Update the state\n",
    "    if state[0] == \"unknown\":\n",
    "        state = (player1_action, \"unknown\")\n",
    "    else:\n",
    "        state = (state[0], player2_action)\n",
    "\n",
    "# Print the final payoffs and state\n",
    "print(\"Final payoffs: Player 1 =\", player1_payoff,\n",
    "      \", Player 2 =\", player2_payoff)\n",
    "print(\"Final state:\", state)\n"
   ]
  },
  {
   "attachments": {},
   "cell_type": "markdown",
   "metadata": {},
   "source": [
    "## Analytical solution"
   ]
  },
  {
   "attachments": {},
   "cell_type": "markdown",
   "metadata": {},
   "source": [
    "If your model allows for an analytical solution, you should provide here.\n",
    "\n",
    "You may use Sympy for this. Then you can characterize the solution as a function of a parameter of the model.\n",
    "\n",
    "To characterize the solution, first derive a steady state equation as a function of a parameter using Sympy.solve and then turn it into a python function by Sympy.lambdify. See the lecture notes for details. "
   ]
  },
  {
   "attachments": {},
   "cell_type": "markdown",
   "metadata": {},
   "source": [
    "## Numerical solution"
   ]
  },
  {
   "attachments": {},
   "cell_type": "markdown",
   "metadata": {},
   "source": [
    "You can always solve a model numerically. \n",
    "\n",
    "Define first the set of parameters you need. \n",
    "\n",
    "Then choose one of the optimization algorithms that we have gone through in the lectures based on what you think is most fitting for your model.\n",
    "\n",
    "Are there any problems with convergence? Does the model converge for all starting values? Make a lot of testing to figure these things out. "
   ]
  },
  {
   "attachments": {},
   "cell_type": "markdown",
   "metadata": {},
   "source": [
    "# Further analysis"
   ]
  },
  {
   "attachments": {},
   "cell_type": "markdown",
   "metadata": {},
   "source": [
    "Make detailed vizualizations of how your model changes with parameter values. \n",
    "\n",
    "Try to make an extension of the model. "
   ]
  },
  {
   "attachments": {},
   "cell_type": "markdown",
   "metadata": {},
   "source": [
    "# Conclusion"
   ]
  },
  {
   "attachments": {},
   "cell_type": "markdown",
   "metadata": {},
   "source": [
    "Add concise conclusion. "
   ]
  }
 ],
 "metadata": {
  "kernelspec": {
   "display_name": "base",
   "language": "python",
   "name": "python3"
  },
  "language_info": {
   "codemirror_mode": {
    "name": "ipython",
    "version": 3
   },
   "file_extension": ".py",
   "mimetype": "text/x-python",
   "name": "python",
   "nbconvert_exporter": "python",
   "pygments_lexer": "ipython3",
   "version": "3.9.16"
  },
  "toc-autonumbering": true,
  "vscode": {
   "interpreter": {
    "hash": "47ef90cdf3004d3f859f1fb202523c65c07ba7c22eefd261b181f4744e2d0403"
   }
  }
 },
 "nbformat": 4,
 "nbformat_minor": 4
}
