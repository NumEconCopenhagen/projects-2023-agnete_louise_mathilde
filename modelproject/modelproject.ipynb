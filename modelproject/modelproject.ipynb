{
 "cells": [
  {
   "attachments": {},
   "cell_type": "markdown",
   "metadata": {},
   "source": [
    "# Comparative Advantages and Trade"
   ]
  },
  {
   "attachments": {},
   "cell_type": "markdown",
   "metadata": {},
   "source": [
    "In this project we show the results from by David Ricardos theory on Comparative Advantages in trade."
   ]
  },
  {
   "attachments": {},
   "cell_type": "markdown",
   "metadata": {},
   "source": [
    "Imports and set magics:"
   ]
  },
  {
   "cell_type": "code",
   "execution_count": 52,
   "metadata": {},
   "outputs": [
    {
     "name": "stdout",
     "output_type": "stream",
     "text": [
      "The autoreload extension is already loaded. To reload it, use:\n",
      "  %reload_ext autoreload\n"
     ]
    }
   ],
   "source": [
    "from mpl_toolkits.mplot3d import Axes3D\n",
    "from matplotlib import cm\n",
    "import matplotlib.pyplot as plt\n",
    "import time\n",
    "from types import SimpleNamespace\n",
    "\n",
    "import no_trade as nt\n",
    "import modelproject as moc\n",
    "\n",
    "import numpy as np\n",
    "import sympy as sm\n",
    "\n",
    "from scipy import linalg\n",
    "from scipy import optimize\n",
    "from scipy.optimize import minimize\n",
    "\n",
    "# autoreload modules when code is run\n",
    "%load_ext autoreload\n",
    "%autoreload 2\n",
    "\n",
    "# local modules\n",
    "plt.rcParams.update({\"axes.grid\": True, \"grid.color\": \"black\",\n",
    "                    \"grid.alpha\": \"0.25\", \"grid.linestyle\": \"--\"})\n",
    "plt.rcParams.update({'font.size': 14})\n"
   ]
  },
  {
   "attachments": {},
   "cell_type": "markdown",
   "metadata": {},
   "source": [
    "# Model description"
   ]
  },
  {
   "attachments": {},
   "cell_type": "markdown",
   "metadata": {},
   "source": [
    "*Comparative advantages and trade* \n",
    "\n",
    "This project models the optimal production of wine and cloth respectively for England and Portugal when the two countries trade with each other. The table below contrains the number of hours each country spend in producing one piece of the two goods:\n",
    "\n",
    "| Country   | Cloth | Wine |      \n",
    "|-----------|-------|------|      \n",
    "| England   | 100   | 120  |           \n",
    "| Portugal  | 90    | 80   |\n",
    "\n",
    "England spends 100 hours in making one piece of cloth and 120 hours in making one bottle of wine. Portugal spends 90 hours producing one piece of cloth and 80 hours producing one bottle of wine. Portugal has an absolut advantage in production of both of the two goods. In the absense of trade, England requires 220 hours of work to produce one unit of each good, and Portugal requires 170 hours of work to produce the same quantities.\n",
    "\n",
    "If the perspective is one year (i.e. 8760 hours), the maximum output of each of the two goods for each of the countries are as in the table below:\n",
    "\n",
    "| Country   | Cloth | Wine |      \n",
    "|-----------|-------|------|      \n",
    "| England   | 87.6  | 73   |           \n",
    "| Portugal  | 97.3  | 109.5|\n",
    "\n",
    "If England speds all their time producing cloth, they ca produce 87.6 pieces of cloth, and if they spend all their time producing wine, they can make 73 bottles in one year. If Portugal spends all their time producing cloth, they can make 97.3 pieces in one year, and if they spend all their time producing wine, they can make 109.5 bottles of wine. \n",
    "\n",
    "*Oppertunity Costs*\n",
    "\n",
    "The table below displays the oppertunity costs for each country for both of the goods. \n",
    "\n",
    "| Country   | OC Cloth | OC Wine |      \n",
    "|-----------|----------|---------|      \n",
    "| England   | 0.83     | 1.2     |           \n",
    "| Portugal  | 1.13     | 0.89    |\n",
    "\n",
    "It \"costs\" England 0.83 bottles of wine to produce one piece of cloth whereas it costs Portugal 1.13 bottles of wine to produce one piece of cloth. This implies that England has a comparative advantage in producing cloth. \n",
    "\n",
    "It \"costs\" England 1.2 pieces of clothing to produce one bottle of wine whereas it costs Portugal 0.89 pieces of clothing to produce one bottle of wine. This implies that Portugal has a comparative advantage in producing wine. \n",
    "\n",
    "If both countries specialize in their comparative advantage and then trade, they can get outcomes that are beyond each of their individual production possibility frontier (PPF) and thereby achieve a higher utility level compared to the case in which they do not trade with each other. \n",
    "\n",
    "The market \"price\" of cloth when trading will be in between 0.83 and 1.13. In this interval, both parties benefit from the trade as England gets a higher \"price\" than what it \"costs\" to produce it, and Portugal \"buy\" the cloth cheaper than what it would have cost them to produce it themselves. The market \"price\" for wine when trading will be in between 0.89 and 1.2 for the same reasons as with cloth - just the other way around. To summarize; the market \"prices\" in these intervals make sence for both countries because the \"prices\" are lower than their oppertunity cost of producing it themselves."
   ]
  },
  {
   "cell_type": "code",
   "execution_count": 50,
   "metadata": {},
   "outputs": [
    {
     "name": "stdout",
     "output_type": "stream",
     "text": [
      "Optimization terminated successfully    (Exit mode 0)\n",
      "            Current function value: -51.61879502634704\n",
      "            Iterations: 8\n",
      "            Function evaluations: 24\n",
      "            Gradient evaluations: 8\n",
      "Portugal produces 54.75 units of wine and 48.67 units of cloth.\n",
      "And, the resulting utility level is 51.62\n",
      "\n",
      "\n",
      "Optimization terminated successfully    (Exit mode 0)\n",
      "            Current function value: -39.98374669812673\n",
      "            Iterations: 10\n",
      "            Function evaluations: 30\n",
      "            Gradient evaluations: 10\n",
      "England produces 36.50 units of wine and 43.80 units of cloth.\n",
      "And, the resulting utility level is 39.98\n"
     ]
    }
   ],
   "source": [
    "from no_trade import no_trade_class as ntc\n",
    "ntc.portugal_production()\n",
    "print('\\n')\n",
    "ntc.england_production()"
   ]
  },
  {
   "attachments": {},
   "cell_type": "markdown",
   "metadata": {},
   "source": [
    "Now, according to Ricardo if they were to trade with England they would be able to consume more of both output, given that both England and Portugal were to produce more of the good inwhich they had a comparative advantage. \n",
    "\n",
    "If they worked the same number of hours, and traded, taking advantage of their comparative advantages, what would the new comsumption bundels look like?"
   ]
  },
  {
   "cell_type": "code",
   "execution_count": 53,
   "metadata": {},
   "outputs": [
    {
     "name": "stdout",
     "output_type": "stream",
     "text": [
      "Optimization terminated successfully    (Exit mode 0)\n",
      "            Current function value: -106.43253557075883\n",
      "            Iterations: 12\n",
      "            Function evaluations: 108\n",
      "            Gradient evaluations: 12\n",
      "The optimal production levels for Portugal are 64.22 units of wine and 50.37 units of cloth\n",
      "The export of wine from Portugal to England is 30.74 units\n",
      "The export of cloth from Portugal to England is 19.71 units\n",
      "The consumption levels for Portugal are 54.75 units of wine and 65.70 units of cloth\n",
      "The utility for Portugal is 59.98\n",
      "\n",
      "\n",
      "The optimal production levels for England are 39.80 units of wine and 59.13 units of cloth\n",
      "The export of wine from England to Portugal is 21.27 units\n",
      "The export of cloth from England to Portugal is 35.04 units\n",
      "The consumption levels for England are 49.28 units of wine and 43.80 units of cloth\n",
      "The utility for England is 46.46\n"
     ]
    }
   ],
   "source": [
    "moc.optimal_trade()"
   ]
  },
  {
   "attachments": {},
   "cell_type": "markdown",
   "metadata": {},
   "source": [
    "# Further analysis"
   ]
  },
  {
   "attachments": {},
   "cell_type": "markdown",
   "metadata": {},
   "source": [
    "Make detailed vizualizations of how your model changes with parameter values. \n",
    "\n",
    "Try to make an extension of the model. \n",
    "\n",
    "\n",
    "Holding Englands preferences fixed at $\\alpha = 0.5$, how does the optimal production/consumption for each of the countries change.\n",
    "\n"
   ]
  },
  {
   "attachments": {},
   "cell_type": "markdown",
   "metadata": {},
   "source": [
    "# Conclusion"
   ]
  },
  {
   "attachments": {},
   "cell_type": "markdown",
   "metadata": {},
   "source": [
    "Add concise conclusion. "
   ]
  }
 ],
 "metadata": {
  "kernelspec": {
   "display_name": "base",
   "language": "python",
   "name": "python3"
  },
  "language_info": {
   "codemirror_mode": {
    "name": "ipython",
    "version": 3
   },
   "file_extension": ".py",
   "mimetype": "text/x-python",
   "name": "python",
   "nbconvert_exporter": "python",
   "pygments_lexer": "ipython3",
   "version": "3.9.16"
  },
  "toc-autonumbering": true,
  "vscode": {
   "interpreter": {
    "hash": "47ef90cdf3004d3f859f1fb202523c65c07ba7c22eefd261b181f4744e2d0403"
   }
  }
 },
 "nbformat": 4,
 "nbformat_minor": 4
}
