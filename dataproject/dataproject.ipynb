{
 "cells": [
  {
   "attachments": {},
   "cell_type": "markdown",
   "metadata": {},
   "source": [
    "# Recipients of subsidy to private day-care and day-care of own children by region"
   ]
  },
  {
   "attachments": {},
   "cell_type": "markdown",
   "metadata": {},
   "source": [
    "> **Note the following:** \n",
    "> 1. This is *not* meant to be an example of an actual **data analysis project**, just an example of how to structure such a project.\n",
    "> 1. Remember the general advice on structuring and commenting your code\n",
    "> 1. The `dataproject.py` file includes a function which can be used multiple times in this notebook."
   ]
  },
  {
   "cell_type": "markdown",
   "metadata": {},
   "source": [
    "Imports and set magics:"
   ]
  },
  {
   "cell_type": "code",
   "execution_count": 2,
   "metadata": {},
   "outputs": [],
   "source": [
    "import pandas as pd\n",
    "import numpy as np\n",
    "import matplotlib.pyplot as plt\n",
    "import ipywidgets as widgets\n",
    "from matplotlib_venn import venn2\n",
    "\n",
    "# autoreload modules when code is run\n",
    "%load_ext autoreload\n",
    "%autoreload 2\n",
    "\n",
    "# user written modules\n",
    "import dataproject\n",
    "\n",
    "import datetime\n",
    "\n",
    "import pandas_datareader # install with `pip install pandas-datareader`\n",
    "import pydst # install with `pip install git+https://github.com/elben10/pydst`\n",
    "\n",
    "import matplotlib.pyplot as plt\n",
    "plt.rcParams.update({\"axes.grid\":True,\"grid.color\":\"black\",\"grid.alpha\":\"0.25\",\"grid.linestyle\":\"--\"})\n",
    "plt.rcParams.update({'font.size': 14})\n"
   ]
  },
  {
   "cell_type": "markdown",
   "metadata": {},
   "source": [
    "# Read and clean data"
   ]
  },
  {
   "attachments": {},
   "cell_type": "markdown",
   "metadata": {},
   "source": [
    "Set up and identify the data tabel we wish to work with. "
   ]
  },
  {
   "cell_type": "code",
   "execution_count": 24,
   "metadata": {},
   "outputs": [
    {
     "data": {
      "text/html": [
       "<div>\n",
       "<style scoped>\n",
       "    .dataframe tbody tr th:only-of-type {\n",
       "        vertical-align: middle;\n",
       "    }\n",
       "\n",
       "    .dataframe tbody tr th {\n",
       "        vertical-align: top;\n",
       "    }\n",
       "\n",
       "    .dataframe thead th {\n",
       "        text-align: right;\n",
       "    }\n",
       "</style>\n",
       "<table border=\"1\" class=\"dataframe\">\n",
       "  <thead>\n",
       "    <tr style=\"text-align: right;\">\n",
       "      <th></th>\n",
       "      <th>id</th>\n",
       "      <th>text</th>\n",
       "      <th>unit</th>\n",
       "      <th>updated</th>\n",
       "      <th>firstPeriod</th>\n",
       "      <th>latestPeriod</th>\n",
       "      <th>active</th>\n",
       "      <th>variables</th>\n",
       "    </tr>\n",
       "  </thead>\n",
       "  <tbody>\n",
       "    <tr>\n",
       "      <th>137</th>\n",
       "      <td>DAGTIL4</td>\n",
       "      <td>Recipients of subsidy to private day-care and ...</td>\n",
       "      <td>Number</td>\n",
       "      <td>2022-03-30 08:00:00</td>\n",
       "      <td>2008</td>\n",
       "      <td>2021</td>\n",
       "      <td>True</td>\n",
       "      <td>[region, grant type, affected , time]</td>\n",
       "    </tr>\n",
       "    <tr>\n",
       "      <th>217</th>\n",
       "      <td>HJEMSYG</td>\n",
       "      <td>Recipients of home nursing</td>\n",
       "      <td>Number</td>\n",
       "      <td>2022-06-10 08:00:00</td>\n",
       "      <td>2016</td>\n",
       "      <td>2021</td>\n",
       "      <td>True</td>\n",
       "      <td>[region, age, sex, time]</td>\n",
       "    </tr>\n",
       "  </tbody>\n",
       "</table>\n",
       "</div>"
      ],
      "text/plain": [
       "          id                                               text    unit  \\\n",
       "137  DAGTIL4  Recipients of subsidy to private day-care and ...  Number   \n",
       "217  HJEMSYG                         Recipients of home nursing  Number   \n",
       "\n",
       "                updated firstPeriod latestPeriod  active  \\\n",
       "137 2022-03-30 08:00:00        2008         2021    True   \n",
       "217 2022-06-10 08:00:00        2016         2021    True   \n",
       "\n",
       "                                 variables  \n",
       "137  [region, grant type, affected , time]  \n",
       "217               [region, age, sex, time]  "
      ]
     },
     "metadata": {},
     "output_type": "display_data"
    }
   ],
   "source": [
    "# Setup data loader with the langauge 'english'\n",
    "Dst = pydst.Dst(lang='en') \n",
    "\n",
    "# Get a list of all subjects \n",
    "Dst.get_subjects() \n",
    "\n",
    "# Get all tables in subject '1' (people)\n",
    "tables = Dst.get_tables(subjects=['1']) \n",
    "\n",
    "# Display only the tables in '1' containing 'Recipients' in the text because we know that the table of interest contains this in its title \n",
    "display(tables[tables['text'].str.contains('Recipients')])"
   ]
  },
  {
   "attachments": {},
   "cell_type": "markdown",
   "metadata": {},
   "source": [
    "From running the Dst.get_subjects() we get that we have to search within the subject 'people' which is 1. \n",
    "\n",
    "We print a list of all of the tables within this subject. \n",
    "\n",
    "We only display the ones that have the word 'Recipients' in the text, because we know that the table we want, the DAGTIL4, has this in its title.\n"
   ]
  },
  {
   "attachments": {},
   "cell_type": "markdown",
   "metadata": {},
   "source": [
    "**$\\large \\color{lightblue}{Import}$**\n"
   ]
  },
  {
   "cell_type": "code",
   "execution_count": 25,
   "metadata": {},
   "outputs": [],
   "source": [
    "# Importing the data from DAGTIL4\n",
    "Rec_vars = Dst.get_variables(table_id='DAGTIL4')\n",
    "Rec_vars\n",
    "\n",
    "# Make the Dataframe\n",
    "variables_rec = {'OMRÅDE':['*'],'TILSKUDSART':['*'],'BERORT':['*'], 'TID':['*']}\n",
    "rec_gen= Dst.get_data(table_id = 'DAGTIL4', variables=variables_rec)\n",
    "rec_gen.sort_values(by=['TID', 'OMRÅDE'], inplace=True)\n",
    "\n",
    "# Rename the columns\n",
    "rec_gen = rec_gen.rename(columns={'OMRÅDE':'Municipality','TILSKUDSART':'Subsidy_type','TID':'Year', 'BERORT':'Affected'})\n",
    "\n",
    "\n",
    "# Importing the data from BY2\n",
    "By_vars = Dst.get_variables(table_id='BY2')\n",
    "By_vars\n",
    "\n",
    "# Make the Dataframe\n",
    "variables_by = {'KOMK':['*'],'ALDER':['*'], 'KØN':['*'], 'Tid':['*']}\n",
    "by_gen= Dst.get_data(table_id = 'BY2', variables=variables_by)\n",
    "by_gen.sort_values(by=['TID', 'KOMK'], inplace=True)\n",
    "\n",
    "# Rename the columns\n",
    "by_gen = by_gen.rename(columns={'KOMK':'Municipality','ALDER':'Age','KØN':'Gender', 'TID':'Year'})\n"
   ]
  },
  {
   "attachments": {},
   "cell_type": "markdown",
   "metadata": {},
   "source": [
    "**$\\large \\color{lightblue}{Merge}$** "
   ]
  },
  {
   "cell_type": "code",
   "execution_count": 20,
   "metadata": {},
   "outputs": [
    {
     "data": {
      "text/html": [
       "<div>\n",
       "<style scoped>\n",
       "    .dataframe tbody tr th:only-of-type {\n",
       "        vertical-align: middle;\n",
       "    }\n",
       "\n",
       "    .dataframe tbody tr th {\n",
       "        vertical-align: top;\n",
       "    }\n",
       "\n",
       "    .dataframe thead th {\n",
       "        text-align: right;\n",
       "    }\n",
       "</style>\n",
       "<table border=\"1\" class=\"dataframe\">\n",
       "  <thead>\n",
       "    <tr style=\"text-align: right;\">\n",
       "      <th></th>\n",
       "      <th>Municipality</th>\n",
       "      <th>Age</th>\n",
       "      <th>Gender</th>\n",
       "      <th>Year</th>\n",
       "      <th>BYST</th>\n",
       "      <th>INDHOLD_x</th>\n",
       "      <th>Subsidy_type</th>\n",
       "      <th>Affected</th>\n",
       "      <th>INDHOLD_y</th>\n",
       "    </tr>\n",
       "  </thead>\n",
       "  <tbody>\n",
       "    <tr>\n",
       "      <th>0</th>\n",
       "      <td>Ballerup</td>\n",
       "      <td>91 years</td>\n",
       "      <td>Women</td>\n",
       "      <td>2010</td>\n",
       "      <td>Greater Copenhagen Region</td>\n",
       "      <td>27</td>\n",
       "      <td>Subsidy to parents who choose private day-care</td>\n",
       "      <td>Children</td>\n",
       "      <td>12</td>\n",
       "    </tr>\n",
       "    <tr>\n",
       "      <th>1</th>\n",
       "      <td>Ballerup</td>\n",
       "      <td>91 years</td>\n",
       "      <td>Women</td>\n",
       "      <td>2010</td>\n",
       "      <td>Greater Copenhagen Region</td>\n",
       "      <td>27</td>\n",
       "      <td>Subsidy to parents who choose private day-care</td>\n",
       "      <td>Families</td>\n",
       "      <td>..</td>\n",
       "    </tr>\n",
       "    <tr>\n",
       "      <th>2</th>\n",
       "      <td>Ballerup</td>\n",
       "      <td>91 years</td>\n",
       "      <td>Women</td>\n",
       "      <td>2010</td>\n",
       "      <td>Greater Copenhagen Region</td>\n",
       "      <td>27</td>\n",
       "      <td>Subsidy for day-care of own children</td>\n",
       "      <td>Children</td>\n",
       "      <td>14</td>\n",
       "    </tr>\n",
       "    <tr>\n",
       "      <th>3</th>\n",
       "      <td>Ballerup</td>\n",
       "      <td>91 years</td>\n",
       "      <td>Women</td>\n",
       "      <td>2010</td>\n",
       "      <td>Greater Copenhagen Region</td>\n",
       "      <td>27</td>\n",
       "      <td>Subsidy for day-care of own children</td>\n",
       "      <td>Families</td>\n",
       "      <td>13</td>\n",
       "    </tr>\n",
       "    <tr>\n",
       "      <th>4</th>\n",
       "      <td>Ballerup</td>\n",
       "      <td>7 years</td>\n",
       "      <td>Men</td>\n",
       "      <td>2010</td>\n",
       "      <td>Greater Copenhagen Region</td>\n",
       "      <td>235</td>\n",
       "      <td>Subsidy to parents who choose private day-care</td>\n",
       "      <td>Children</td>\n",
       "      <td>12</td>\n",
       "    </tr>\n",
       "    <tr>\n",
       "      <th>5</th>\n",
       "      <td>Ballerup</td>\n",
       "      <td>7 years</td>\n",
       "      <td>Men</td>\n",
       "      <td>2010</td>\n",
       "      <td>Greater Copenhagen Region</td>\n",
       "      <td>235</td>\n",
       "      <td>Subsidy to parents who choose private day-care</td>\n",
       "      <td>Families</td>\n",
       "      <td>..</td>\n",
       "    </tr>\n",
       "    <tr>\n",
       "      <th>6</th>\n",
       "      <td>Ballerup</td>\n",
       "      <td>7 years</td>\n",
       "      <td>Men</td>\n",
       "      <td>2010</td>\n",
       "      <td>Greater Copenhagen Region</td>\n",
       "      <td>235</td>\n",
       "      <td>Subsidy for day-care of own children</td>\n",
       "      <td>Children</td>\n",
       "      <td>14</td>\n",
       "    </tr>\n",
       "    <tr>\n",
       "      <th>7</th>\n",
       "      <td>Ballerup</td>\n",
       "      <td>7 years</td>\n",
       "      <td>Men</td>\n",
       "      <td>2010</td>\n",
       "      <td>Greater Copenhagen Region</td>\n",
       "      <td>235</td>\n",
       "      <td>Subsidy for day-care of own children</td>\n",
       "      <td>Families</td>\n",
       "      <td>13</td>\n",
       "    </tr>\n",
       "    <tr>\n",
       "      <th>8</th>\n",
       "      <td>Ballerup</td>\n",
       "      <td>86 years</td>\n",
       "      <td>Women</td>\n",
       "      <td>2010</td>\n",
       "      <td>Greater Copenhagen Region</td>\n",
       "      <td>58</td>\n",
       "      <td>Subsidy to parents who choose private day-care</td>\n",
       "      <td>Children</td>\n",
       "      <td>12</td>\n",
       "    </tr>\n",
       "    <tr>\n",
       "      <th>9</th>\n",
       "      <td>Ballerup</td>\n",
       "      <td>86 years</td>\n",
       "      <td>Women</td>\n",
       "      <td>2010</td>\n",
       "      <td>Greater Copenhagen Region</td>\n",
       "      <td>58</td>\n",
       "      <td>Subsidy to parents who choose private day-care</td>\n",
       "      <td>Families</td>\n",
       "      <td>..</td>\n",
       "    </tr>\n",
       "  </tbody>\n",
       "</table>\n",
       "</div>"
      ],
      "text/plain": [
       "  Municipality       Age Gender  Year                       BYST  INDHOLD_x  \\\n",
       "0     Ballerup  91 years  Women  2010  Greater Copenhagen Region         27   \n",
       "1     Ballerup  91 years  Women  2010  Greater Copenhagen Region         27   \n",
       "2     Ballerup  91 years  Women  2010  Greater Copenhagen Region         27   \n",
       "3     Ballerup  91 years  Women  2010  Greater Copenhagen Region         27   \n",
       "4     Ballerup   7 years    Men  2010  Greater Copenhagen Region        235   \n",
       "5     Ballerup   7 years    Men  2010  Greater Copenhagen Region        235   \n",
       "6     Ballerup   7 years    Men  2010  Greater Copenhagen Region        235   \n",
       "7     Ballerup   7 years    Men  2010  Greater Copenhagen Region        235   \n",
       "8     Ballerup  86 years  Women  2010  Greater Copenhagen Region         58   \n",
       "9     Ballerup  86 years  Women  2010  Greater Copenhagen Region         58   \n",
       "\n",
       "                                     Subsidy_type  Affected INDHOLD_y  \n",
       "0  Subsidy to parents who choose private day-care  Children        12  \n",
       "1  Subsidy to parents who choose private day-care  Families        ..  \n",
       "2            Subsidy for day-care of own children  Children        14  \n",
       "3            Subsidy for day-care of own children  Families        13  \n",
       "4  Subsidy to parents who choose private day-care  Children        12  \n",
       "5  Subsidy to parents who choose private day-care  Families        ..  \n",
       "6            Subsidy for day-care of own children  Children        14  \n",
       "7            Subsidy for day-care of own children  Families        13  \n",
       "8  Subsidy to parents who choose private day-care  Children        12  \n",
       "9  Subsidy to parents who choose private day-care  Families        ..  "
      ]
     },
     "execution_count": 20,
     "metadata": {},
     "output_type": "execute_result"
    }
   ],
   "source": [
    "one2one = pd.merge(by_gen,rec_gen,on=['Municipality', 'Year'],how='inner') # Merge the two dataframes by Municipality and Year\n",
    "one2one.head(10)"
   ]
  },
  {
   "attachments": {},
   "cell_type": "markdown",
   "metadata": {},
   "source": [
    "Now we want to examine each variable"
   ]
  },
  {
   "cell_type": "code",
   "execution_count": 5,
   "metadata": {},
   "outputs": [],
   "source": [
    "one2one_vars = Dst.get_variables(table_id='one2one')\n",
    "\n",
    "for id in ['INDIKATOR','SEKTOR','ARBFUNK','FAMTYP']:\n",
    "     print(id)\n",
    "     values = one2one_vars.loc[one2one_vars.id == id,['values']].values[0,0]\n",
    "     for value in values:      \n",
    "         print(f' id = {value[\"id\"]}, text = {value[\"text\"]}')\n",
    "\n",
    "# print the first 6 valyes of FAMTYP\n",
    "# values = Rec_vars.loc[Rec_vars.id == 'FAMTYP',['values']].values[0,0]\n",
    "# print(values)"
   ]
  },
  {
   "cell_type": "markdown",
   "metadata": {},
   "source": [
    "## Explore each data set"
   ]
  },
  {
   "attachments": {},
   "cell_type": "markdown",
   "metadata": {},
   "source": [
    "In order to be able to **explore the raw data**, you may provide **static** and **interactive plots** to show important developments \n",
    "\n",
    "Et interaktivt plot hvor man kan klikke rundt mellem kommuner? "
   ]
  },
  {
   "cell_type": "code",
   "execution_count": 23,
   "metadata": {},
   "outputs": [
    {
     "ename": "TypeError",
     "evalue": "no numeric data to plot",
     "output_type": "error",
     "traceback": [
      "\u001b[1;31m---------------------------------------------------------------------------\u001b[0m",
      "\u001b[1;31mTypeError\u001b[0m                                 Traceback (most recent call last)",
      "Cell \u001b[1;32mIn[23], line 6\u001b[0m\n\u001b[0;32m      3\u001b[0m     one2one[one2one[\u001b[39m'\u001b[39m\u001b[39mSubsidy_type\u001b[39m\u001b[39m'\u001b[39m]\u001b[39m==\u001b[39mSubsidy_type]\u001b[39m.\u001b[39mplot(x\u001b[39m=\u001b[39m\u001b[39m'\u001b[39m\u001b[39mYear\u001b[39m\u001b[39m'\u001b[39m, y\u001b[39m=\u001b[39m\u001b[39m'\u001b[39m\u001b[39mAffected\u001b[39m\u001b[39m'\u001b[39m, kind\u001b[39m=\u001b[39m\u001b[39m'\u001b[39m\u001b[39mline\u001b[39m\u001b[39m'\u001b[39m, title\u001b[39m=\u001b[39mSubsidy_type)\n\u001b[0;32m      4\u001b[0m     plt\u001b[39m.\u001b[39mshow()\n\u001b[1;32m----> 6\u001b[0m plot_subsidy_type(\u001b[39m'\u001b[39;49m\u001b[39mSubsidy for day-care of own children\u001b[39;49m\u001b[39m'\u001b[39;49m)\n",
      "Cell \u001b[1;32mIn[23], line 3\u001b[0m, in \u001b[0;36mplot_subsidy_type\u001b[1;34m(Subsidy_type)\u001b[0m\n\u001b[0;32m      2\u001b[0m \u001b[39mdef\u001b[39;00m \u001b[39mplot_subsidy_type\u001b[39m(Subsidy_type):\n\u001b[1;32m----> 3\u001b[0m     one2one[one2one[\u001b[39m'\u001b[39;49m\u001b[39mSubsidy_type\u001b[39;49m\u001b[39m'\u001b[39;49m]\u001b[39m==\u001b[39;49mSubsidy_type]\u001b[39m.\u001b[39;49mplot(x\u001b[39m=\u001b[39;49m\u001b[39m'\u001b[39;49m\u001b[39mYear\u001b[39;49m\u001b[39m'\u001b[39;49m, y\u001b[39m=\u001b[39;49m\u001b[39m'\u001b[39;49m\u001b[39mAffected\u001b[39;49m\u001b[39m'\u001b[39;49m, kind\u001b[39m=\u001b[39;49m\u001b[39m'\u001b[39;49m\u001b[39mline\u001b[39;49m\u001b[39m'\u001b[39;49m, title\u001b[39m=\u001b[39;49mSubsidy_type)\n\u001b[0;32m      4\u001b[0m     plt\u001b[39m.\u001b[39mshow()\n",
      "File \u001b[1;32mc:\\Users\\Louise Boe Prahl\\anaconda3\\lib\\site-packages\\pandas\\plotting\\_core.py:1000\u001b[0m, in \u001b[0;36mPlotAccessor.__call__\u001b[1;34m(self, *args, **kwargs)\u001b[0m\n\u001b[0;32m    997\u001b[0m             label_name \u001b[39m=\u001b[39m label_kw \u001b[39mor\u001b[39;00m data\u001b[39m.\u001b[39mcolumns\n\u001b[0;32m    998\u001b[0m             data\u001b[39m.\u001b[39mcolumns \u001b[39m=\u001b[39m label_name\n\u001b[1;32m-> 1000\u001b[0m \u001b[39mreturn\u001b[39;00m plot_backend\u001b[39m.\u001b[39mplot(data, kind\u001b[39m=\u001b[39mkind, \u001b[39m*\u001b[39m\u001b[39m*\u001b[39mkwargs)\n",
      "File \u001b[1;32mc:\\Users\\Louise Boe Prahl\\anaconda3\\lib\\site-packages\\pandas\\plotting\\_matplotlib\\__init__.py:71\u001b[0m, in \u001b[0;36mplot\u001b[1;34m(data, kind, **kwargs)\u001b[0m\n\u001b[0;32m     69\u001b[0m         kwargs[\u001b[39m\"\u001b[39m\u001b[39max\u001b[39m\u001b[39m\"\u001b[39m] \u001b[39m=\u001b[39m \u001b[39mgetattr\u001b[39m(ax, \u001b[39m\"\u001b[39m\u001b[39mleft_ax\u001b[39m\u001b[39m\"\u001b[39m, ax)\n\u001b[0;32m     70\u001b[0m plot_obj \u001b[39m=\u001b[39m PLOT_CLASSES[kind](data, \u001b[39m*\u001b[39m\u001b[39m*\u001b[39mkwargs)\n\u001b[1;32m---> 71\u001b[0m plot_obj\u001b[39m.\u001b[39;49mgenerate()\n\u001b[0;32m     72\u001b[0m plot_obj\u001b[39m.\u001b[39mdraw()\n\u001b[0;32m     73\u001b[0m \u001b[39mreturn\u001b[39;00m plot_obj\u001b[39m.\u001b[39mresult\n",
      "File \u001b[1;32mc:\\Users\\Louise Boe Prahl\\anaconda3\\lib\\site-packages\\pandas\\plotting\\_matplotlib\\core.py:450\u001b[0m, in \u001b[0;36mMPLPlot.generate\u001b[1;34m(self)\u001b[0m\n\u001b[0;32m    448\u001b[0m \u001b[39mdef\u001b[39;00m \u001b[39mgenerate\u001b[39m(\u001b[39mself\u001b[39m) \u001b[39m-\u001b[39m\u001b[39m>\u001b[39m \u001b[39mNone\u001b[39;00m:\n\u001b[0;32m    449\u001b[0m     \u001b[39mself\u001b[39m\u001b[39m.\u001b[39m_args_adjust()\n\u001b[1;32m--> 450\u001b[0m     \u001b[39mself\u001b[39;49m\u001b[39m.\u001b[39;49m_compute_plot_data()\n\u001b[0;32m    451\u001b[0m     \u001b[39mself\u001b[39m\u001b[39m.\u001b[39m_setup_subplots()\n\u001b[0;32m    452\u001b[0m     \u001b[39mself\u001b[39m\u001b[39m.\u001b[39m_make_plot()\n",
      "File \u001b[1;32mc:\\Users\\Louise Boe Prahl\\anaconda3\\lib\\site-packages\\pandas\\plotting\\_matplotlib\\core.py:635\u001b[0m, in \u001b[0;36mMPLPlot._compute_plot_data\u001b[1;34m(self)\u001b[0m\n\u001b[0;32m    633\u001b[0m \u001b[39m# no non-numeric frames or series allowed\u001b[39;00m\n\u001b[0;32m    634\u001b[0m \u001b[39mif\u001b[39;00m is_empty:\n\u001b[1;32m--> 635\u001b[0m     \u001b[39mraise\u001b[39;00m \u001b[39mTypeError\u001b[39;00m(\u001b[39m\"\u001b[39m\u001b[39mno numeric data to plot\u001b[39m\u001b[39m\"\u001b[39m)\n\u001b[0;32m    637\u001b[0m \u001b[39mself\u001b[39m\u001b[39m.\u001b[39mdata \u001b[39m=\u001b[39m numeric_data\u001b[39m.\u001b[39mapply(\u001b[39mself\u001b[39m\u001b[39m.\u001b[39m_convert_to_ndarray)\n",
      "\u001b[1;31mTypeError\u001b[0m: no numeric data to plot"
     ]
    }
   ],
   "source": [
    "# create a pivot table\n",
    "one2one_pivot = one2one.pivot_table(index='indikator', columns='Year', values='Affected')\n",
    "\n",
    "# create a subset of data for Men and Women\n",
    "men = one2one_pivot.loc['Men']\n",
    "women = one2one_pivot.loc['Woman']\n",
    "\n",
    "# create line plots for Men and Women\n",
    "plt.plot(equ_gen_pivot.columns, men, label='Men', color='blue')\n",
    "plt.plot(equ_gen_pivot.columns, women, label='Women', color='red')\n",
    "\n",
    "# create bar plot for Diff\n",
    "diff = equ_gen_pivot.loc['Diff']\n",
    "plt.bar(equ_gen_pivot.columns, diff, label='Difference', color='lightblue', alpha=0.5)\n",
    "\n",
    "# add axis labels and legend\n",
    "plt.xlabel('Year')\n",
    "plt.ylabel('Hours')\n",
    "plt.legend()\n",
    "\n",
    "# set the style using Seaborn\n",
    "sns.set_style('whitegrid')\n",
    "\n",
    "# set the plot title and adjust the layout\n",
    "plt.title('Average Absent hours by Gender')\n",
    "plt.tight_layout()\n",
    "\n",
    "# show the plot\n",
    "plt.show()\n",
    " "
   ]
  },
  {
   "cell_type": "markdown",
   "metadata": {},
   "source": [
    "**Interactive plot** :"
   ]
  },
  {
   "cell_type": "code",
   "execution_count": 6,
   "metadata": {},
   "outputs": [
    {
     "data": {
      "application/vnd.jupyter.widget-view+json": {
       "model_id": "73abe5693b4a43ec95fda4ca921d8bcd",
       "version_major": 2,
       "version_minor": 0
      },
      "text/plain": [
       "interactive(children=(Output(),), _dom_classes=('widget-interact',))"
      ]
     },
     "metadata": {},
     "output_type": "display_data"
    }
   ],
   "source": [
    "def plot_func():\n",
    "    # Function that operates on data set\n",
    "    pass\n",
    "\n",
    "widgets.interact(plot_func, \n",
    "    # Let the widget interact with data through plot_func()    \n",
    "); \n"
   ]
  },
  {
   "cell_type": "markdown",
   "metadata": {},
   "source": [
    "Explain what you see when moving elements of the interactive plot around. "
   ]
  },
  {
   "cell_type": "markdown",
   "metadata": {},
   "source": [
    "# Analysis"
   ]
  },
  {
   "cell_type": "markdown",
   "metadata": {},
   "source": [
    "To get a quick overview of the data, we show some **summary statistics** on a meaningful aggregation. "
   ]
  },
  {
   "cell_type": "markdown",
   "metadata": {},
   "source": [
    "MAKE FURTHER ANALYSIS. EXPLAIN THE CODE BRIEFLY AND SUMMARIZE THE RESULTS."
   ]
  },
  {
   "cell_type": "markdown",
   "metadata": {},
   "source": [
    "# Conclusion"
   ]
  },
  {
   "cell_type": "markdown",
   "metadata": {},
   "source": [
    "ADD CONCISE CONLUSION."
   ]
  }
 ],
 "metadata": {
  "kernelspec": {
   "display_name": "base",
   "language": "python",
   "name": "python3"
  },
  "language_info": {
   "codemirror_mode": {
    "name": "ipython",
    "version": 3
   },
   "file_extension": ".py",
   "mimetype": "text/x-python",
   "name": "python",
   "nbconvert_exporter": "python",
   "pygments_lexer": "ipython3",
   "version": "3.9.16"
  },
  "toc-autonumbering": true,
  "vscode": {
   "interpreter": {
    "hash": "47ef90cdf3004d3f859f1fb202523c65c07ba7c22eefd261b181f4744e2d0403"
   }
  }
 },
 "nbformat": 4,
 "nbformat_minor": 4
}
