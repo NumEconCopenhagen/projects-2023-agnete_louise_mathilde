{
 "cells": [
  {
   "attachments": {},
   "cell_type": "markdown",
   "metadata": {},
   "source": [
    "**Table of contents**<a id='toc0_'></a>    \n",
    "- 1. [Problem 1: Optimal taxation with government consumption](#toc1_)    \n",
    "- 2. [Problem 2: Labor adjustment costs](#toc2_)    \n",
    "- 3. [Problem 3: Global optimizer with refined multi-start](#toc3_)    \n",
    "\n",
    "<!-- vscode-jupyter-toc-config\n",
    "\tnumbering=true\n",
    "\tanchor=true\n",
    "\tflat=false\n",
    "\tminLevel=2\n",
    "\tmaxLevel=6\n",
    "\t/vscode-jupyter-toc-config -->\n",
    "<!-- THIS CELL WILL BE REPLACED ON TOC UPDATE. DO NOT WRITE YOUR TEXT IN THIS CELL -->"
   ]
  },
  {
   "cell_type": "code",
   "execution_count": 657,
   "metadata": {},
   "outputs": [
    {
     "name": "stdout",
     "output_type": "stream",
     "text": [
      "The autoreload extension is already loaded. To reload it, use:\n",
      "  %reload_ext autoreload\n"
     ]
    }
   ],
   "source": [
    "# write your code here\n",
    "from mpl_toolkits.mplot3d import Axes3D\n",
    "from matplotlib import cm\n",
    "import matplotlib.pyplot as plt\n",
    "import time\n",
    "import copy \n",
    "from types import SimpleNamespace\n",
    "\n",
    "import numpy as np\n",
    "import sympy as sm\n",
    "\n",
    "from scipy import linalg\n",
    "from scipy import optimize\n",
    "from scipy.optimize import minimize\n",
    "\n",
    "# autoreload modules when code is run\n",
    "%load_ext autoreload\n",
    "%autoreload 2\n",
    "\n",
    "# local modules\n",
    "plt.rcParams.update({\"axes.grid\": True, \"grid.color\": \"black\",\n",
    "                    \"grid.alpha\": \"0.25\", \"grid.linestyle\": \"--\"})\n",
    "plt.rcParams.update({'font.size': 14})"
   ]
  },
  {
   "attachments": {},
   "cell_type": "markdown",
   "metadata": {},
   "source": [
    "## 1. <a id='toc1_'></a>[Problem 1: Optimal taxation with government consumption](#toc0_)"
   ]
  },
  {
   "attachments": {},
   "cell_type": "markdown",
   "metadata": {},
   "source": [
    "\n",
    "Consider a worker choosing hours of labor, $L\\in[0,24]$, to maximize utility: \n",
    "\n",
    "$$\n",
    "\\begin{align*}\n",
    "V(w,\\tau,G)&=\\max_{L\\in[0,24]}\\ln\\left(C^{\\alpha}G^{1-\\alpha}\\right)-\\nu\\frac{L^{2}}{2}\\\\&\\text{s.t.}\\\\&C=\\kappa+(1-\\tau)wL\n",
    "\\end{align*}\n",
    "$$\n",
    "\n",
    "where \n",
    "\n",
    "* $C$ is *private* consumption with weight $\\alpha\\in(0,1)$.\n",
    "* $\\kappa > 0$ is the *free private* consumption component.\n",
    "* (1-\\tau)wL$ is the *costly private* consumption component.\n",
    "* $w > 0 $ is the real wage.\n",
    "* $\\tau \\in (0,1)$ is the labor-income tax rate.\n",
    "* $G > 0 $ is *government* consumption with weight $1-\\alpha$.\n",
    "* $\\nu > 0$ is the disutility of labor scaling factor"
   ]
  },
  {
   "attachments": {},
   "cell_type": "markdown",
   "metadata": {},
   "source": [
    "\n",
    "The baseline parameters are:\n",
    "\n",
    "$$\n",
    "\\begin{align*}\n",
    "\\alpha &= 0.5\\\\\n",
    "\\kappa &= 1.0\\\\\n",
    "\\nu &= \\frac{1}{2\\cdot16^2} \\\\\n",
    "w &= 1.0 \\\\ \n",
    "\\tau &= 0.30 \\\\\n",
    "\\end{align*}\n",
    "$$"
   ]
  },
  {
   "attachments": {},
   "cell_type": "markdown",
   "metadata": {},
   "source": [
    "**Question 1:** Verify that the optimal labor supply choice is $L^{\\star}(\\tilde{w}) =\\frac{-\\kappa+\\sqrt{\\kappa^{2}+4\\frac{\\alpha}{\\nu}\\tilde{w}^2}}{2\\tilde{w}}$, where $\\tilde{w} = (1-\\tau)w$, for $G\\in\\left\\{1.0 , 2.0\\right\\}$."
   ]
  },
  {
   "cell_type": "code",
   "execution_count": 658,
   "metadata": {},
   "outputs": [],
   "source": [
    "# define parameters\n",
    "mp = SimpleNamespace()\n",
    "\n",
    "mp.alpha = 0.5\n",
    "mp.kappa = 1\n",
    "mp.nu = 1 /(2*16**2)\n",
    "mp.w = 1.0\n",
    "mp.tau = 0.3\n",
    "\n",
    "# define as sympy symbols\n",
    "alpha = sm.symbols('alpha')\n",
    "kappa = sm.symbols('kappa')\n",
    "nu = sm.symbols('nu')\n",
    "\n",
    "w = sm.symbols('w')\n",
    "w_tilde = sm.symbols('w_tilde')\n",
    "tau = sm.symbols('tau')\n",
    "\n",
    "L = sm.symbols('L')\n",
    "G = sm.symbols('G')\n",
    "C = sm.symbols('C')"
   ]
  },
  {
   "cell_type": "code",
   "execution_count": 659,
   "metadata": {},
   "outputs": [
    {
     "data": {
      "text/latex": [
       "$\\displaystyle L w_{tilde} + \\kappa$"
      ],
      "text/plain": [
       "L*w_tilde + kappa"
      ]
     },
     "execution_count": 659,
     "metadata": {},
     "output_type": "execute_result"
    }
   ],
   "source": [
    "utility = sm.log(C**alpha * G**(1-alpha)) - nu *(L**2)/2\n",
    "\n",
    "budget_constraint = sm.Eq(kappa + w_tilde*L,C)\n",
    "budget_contraint__tilde = sm.Eq(kappa + (1-tau)*w*L,C)\n",
    "budget_constraint\n",
    "\n",
    "# isolate L\n",
    "C_from_con = sm.solve(budget_constraint, C)\n",
    "C_from_con_tilde = sm.solve(budget_contraint__tilde, C)\n",
    "C_from_con[0]"
   ]
  },
  {
   "cell_type": "code",
   "execution_count": 660,
   "metadata": {},
   "outputs": [
    {
     "data": {
      "text/latex": [
       "$\\displaystyle - \\frac{L^{2} \\nu}{2} + \\log{\\left(G^{1 - \\alpha} \\left(L w_{tilde} + \\kappa\\right)^{\\alpha} \\right)}$"
      ],
      "text/plain": [
       "-L**2*nu/2 + log(G**(1 - alpha)*(L*w_tilde + kappa)**alpha)"
      ]
     },
     "execution_count": 660,
     "metadata": {},
     "output_type": "execute_result"
    }
   ],
   "source": [
    "objective_subs = utility.subs(C, C_from_con[0])\n",
    "objective_subs_tilde = utility.subs(C, C_from_con_tilde[0])\n",
    "objective_subs"
   ]
  },
  {
   "cell_type": "code",
   "execution_count": 661,
   "metadata": {},
   "outputs": [
    {
     "data": {
      "text/latex": [
       "$\\displaystyle \\frac{G^{1 - \\alpha} G^{\\alpha - 1} \\alpha w_{tilde}}{L w_{tilde} + \\kappa} - L \\nu$"
      ],
      "text/plain": [
       "G**(1 - alpha)*G**(alpha - 1)*alpha*w_tilde/(L*w_tilde + kappa) - L*nu"
      ]
     },
     "execution_count": 661,
     "metadata": {},
     "output_type": "execute_result"
    }
   ],
   "source": [
    "foc = sm.diff(objective_subs, L)\n",
    "foc_tilde = sm.diff(objective_subs_tilde, L)\n",
    "foc"
   ]
  },
  {
   "cell_type": "code",
   "execution_count": 662,
   "metadata": {},
   "outputs": [
    {
     "data": {
      "text/latex": [
       "$\\displaystyle \\frac{- \\kappa \\nu - \\sqrt{\\nu \\left(4 \\alpha w_{tilde}^{2} + \\kappa^{2} \\nu\\right)}}{2 \\nu w_{tilde}}$"
      ],
      "text/plain": [
       "(-kappa*nu - sqrt(nu*(4*alpha*w_tilde**2 + kappa**2*nu)))/(2*nu*w_tilde)"
      ]
     },
     "execution_count": 662,
     "metadata": {},
     "output_type": "execute_result"
    }
   ],
   "source": [
    "sol = sm.solve(sm.Eq(foc,0), L)\n",
    "sol_tilde = sm.solve(sm.Eq(foc_tilde,0), L)\n",
    "sol[0]"
   ]
  },
  {
   "attachments": {},
   "cell_type": "markdown",
   "metadata": {},
   "source": [
    "Were we to move the nu, this would be identical to $L^{\\star}(\\tilde{w}) =\\frac{-\\kappa+\\sqrt{\\kappa^{2}+4\\frac{\\alpha}{\\nu}\\tilde{w}^2}}{2\\tilde{w}}$, where $\\tilde{w} = (1-\\tau)w$"
   ]
  },
  {
   "attachments": {},
   "cell_type": "markdown",
   "metadata": {},
   "source": [
    "**Question 2:** Illustrate how $L^{\\star}(\\tilde{w})$ depends on $w$."
   ]
  },
  {
   "cell_type": "code",
   "execution_count": 663,
   "metadata": {},
   "outputs": [
    {
     "name": "stderr",
     "output_type": "stream",
     "text": [
      "<lambdifygenerated-51>:2: RuntimeWarning: invalid value encountered in double_scalars\n",
      "  return (1/2)*(kappa*nu - sqrt(nu*(4*alpha*tau**2*w**2 - 8*alpha*tau*w**2 + 4*alpha*w**2 + kappa**2*nu)))/(nu*w*(tau - 1))\n"
     ]
    },
    {
     "data": {
      "image/png": "[encoded data removed]",
      "text/plain": [
       "<Figure size 500x300 with 1 Axes>"
      ]
     },
     "metadata": {},
     "output_type": "display_data"
    }
   ],
   "source": [
    "# To run this, push \"Run All\"\n",
    "\n",
    "# lambdify the sol[0] function\n",
    "L_opt = sm.lambdify((alpha, kappa, nu, w, tau), sol_tilde[0])\n",
    "\n",
    "# define vector of w_tilde\n",
    "w_vec = np.linspace(0, 10, 100)\n",
    "\n",
    "# loop over w_tilde_vec and calculate optimal labor supply\n",
    "L_opt_vec = np.empty_like(w_vec)\n",
    "\n",
    "for i, w in enumerate(w_vec):\n",
    "    L_opt_vec[i] = L_opt(mp.alpha, mp.kappa, mp.nu, w, mp.tau)\n",
    "\n",
    "# plot\n",
    "fig = plt.figure(figsize=(5,3))\n",
    "ax = fig.add_subplot(1,1,1)\n",
    "\n",
    "ax.plot(w_tilde_vec, L_opt_vec, label=r\"$L^*$\")\n",
    "\n",
    "ax.set_xlabel(r\"${w}$\")\n",
    "ax.set_ylabel(r\"$L$\")\n",
    "ax.legend()\n",
    "\n",
    "plt.show()"
   ]
  },
  {
   "attachments": {},
   "cell_type": "markdown",
   "metadata": {},
   "source": [
    "\n",
    "We now consider a government, who chooses $\\tau$ and spend all of the taxes on government consumption so:\n",
    "\n",
    "$$\n",
    "G = \\tau w L^{\\star}((1-\\tau)w)\n",
    "$$\n",
    "\n",
    "**Question 3:** Plot the implied $L$, $G$ and worker utility for a grid of $\\tau$-values.\n"
   ]
  },
  {
   "attachments": {},
   "cell_type": "markdown",
   "metadata": {},
   "source": [
    "The consumer optimize its utility function by choosing a number of hours between 0 and 24. \n",
    "\n",
    "The utility depends on the amount of government spending, the private consumption and the disutility from work. \n",
    "\n",
    "Hence, the consumer takes the structure of the government spending into account when deciding how much to work. "
   ]
  },
  {
   "cell_type": "code",
   "execution_count": 664,
   "metadata": {},
   "outputs": [],
   "source": [
    "# define parameters\n",
    "mp = SimpleNamespace()\n",
    "\n",
    "mp.alpha = 0.5\n",
    "mp.kappa = 1\n",
    "mp.nu = 1/(2*16**2) #= 0.00390625\n",
    "mp.w = 1.0\n",
    "mp.tau = 0.3\n",
    "\n",
    "def objective(l,mp,tau):\n",
    "    \"\"\" objective function\n",
    "    \n",
    "    Args:\n",
    "        l (float): labor\n",
    "        mp (SimpleNamespace): model parameters\n",
    "        tau (float): tax rate\n",
    "\n",
    "    Returns:\n",
    "        float: objective value\n",
    "    \"\"\"\n",
    "\n",
    "    g = tau*mp.w*l\n",
    "\n",
    "    c = mp.kappa + (1-tau)*mp.w*l\n",
    "\n",
    "    # to avoid log(0)\n",
    "    if c**mp.alpha * g**(1-mp.alpha) <= 0:\n",
    "        return 1e-8\n",
    "\n",
    "    utility = np.log(c**mp.alpha * g**(1-mp.alpha))\n",
    "\n",
    "    disutility = mp.nu * (l**2)/2\n",
    "\n",
    "    return  utility - disutility"
   ]
  },
  {
   "cell_type": "code",
   "execution_count": 665,
   "metadata": {},
   "outputs": [
    {
     "data": {
      "image/png": "[encoded data removed]",
      "text/plain": [
       "<Figure size 500x300 with 1 Axes>"
      ]
     },
     "metadata": {},
     "output_type": "display_data"
    }
   ],
   "source": [
    "# optimize the objective function using scipy.optimize.minimize\n",
    "# initial guess\n",
    "l0 = 12\n",
    "\n",
    "# bounds\n",
    "bnds = ((0, 24),)\n",
    "\n",
    "# definte vector of tau\n",
    "tau_vec = np.linspace(0, 1, 100)\n",
    "\n",
    "#initialize vector of L\n",
    "U_vec = np.empty_like(tau_vec)\n",
    "L_vec = np.empty_like(tau_vec)\n",
    "C_vec = np.empty_like(tau_vec)\n",
    "G_vec = np.empty_like(tau_vec)\n",
    "\n",
    "# # loop over tau_vec and calculate optimal labor supply\n",
    "for i, tau in enumerate(tau_vec):\n",
    "    obj = lambda l: -objective(l, mp, tau)\n",
    "    # optimize the objective function wrt to L\n",
    "    result= optimize.minimize(obj,l0,method='L-BFGS-B',bounds=bnds)\n",
    "    \n",
    "    U_vec[i] = -result.fun\n",
    "    L_vec[i] = result.x\n",
    "    C_vec[i] = mp.kappa + (1-tau)*mp.w*result.x\n",
    "    G_vec[i] = tau*mp.w*result.x*((1-tau)*mp.w)\n",
    "\n",
    "# plot the results\n",
    "fig = plt.figure(figsize=(5,3))\n",
    "ax = fig.add_subplot(1,1,1)\n",
    "\n",
    "ax.plot(tau_vec, U_vec, label=r\"$U$\")\n",
    "ax.plot(tau_vec, L_vec, label=r\"$L$\")\n",
    "ax.plot(tau_vec, G_vec, label=r\"$G$\")\n",
    "ax.plot(tau_vec, C_vec, label=r\"$C$\")\n",
    "ax.legend()\n",
    "\n",
    "ax.set_xlabel(r\"$\\tau$\")\n",
    "ax.set_ylabel(r\"$U, L, G, C$\")\n",
    "\n",
    "plt.show()"
   ]
  },
  {
   "attachments": {},
   "cell_type": "markdown",
   "metadata": {},
   "source": [
    "According to this plot the worker utility is greatest when $\\tau$ is close to 0 or 1."
   ]
  },
  {
   "attachments": {},
   "cell_type": "markdown",
   "metadata": {},
   "source": [
    "**Question 4:** Find the socially optimal tax rate $\\tau^{\\star}\\in(0,1)$ maximizing worker utility. Illustrate your result."
   ]
  },
  {
   "cell_type": "code",
   "execution_count": 666,
   "metadata": {},
   "outputs": [
    {
     "name": "stdout",
     "output_type": "stream",
     "text": [
      "The highest utility is 1.97 and it is achieved at tau = 0.53\n"
     ]
    },
    {
     "data": {
      "image/png": "[encoded data removed]",
      "text/plain": [
       "<Figure size 500x300 with 1 Axes>"
      ]
     },
     "metadata": {},
     "output_type": "display_data"
    }
   ],
   "source": [
    "# the tax revenu as a function of tau\n",
    "tau_vec = np.linspace(0, 1, 100)\n",
    "\n",
    "# initialize vector of tax revenue\n",
    "utility_vec = np.empty_like(tau_vec)\n",
    "\n",
    "# loop over tau_vec and calculate tax revenue\n",
    "for i, tau in enumerate(tau_vec):\n",
    "    obj = lambda l: -objective(l, mp, tau)\n",
    "    # optimize the objective function wrt to L\n",
    "    result= optimize.minimize(obj, l0, bounds=bnds, method='Nelder-Mead')\n",
    "    utility_vec[i] = -result.fun\n",
    "\n",
    "# find the higest value of obj and the corresponding tau\n",
    "max_utility = np.max(utility_vec)\n",
    "max_tau = tau_vec[np.argmax(utility_vec)]\n",
    "\n",
    "print(f\"The highest utility is {max_utility:.2f} and it is achieved at tau = {max_tau:.2f}\")\n",
    "\n",
    "# plot the results\n",
    "fig = plt.figure(figsize=(5,3))\n",
    "ax = fig.add_subplot(1,1,1)\n",
    "\n",
    "ax.plot(tau_vec, utility_vec, label=r\"$U$\")\n",
    "ax.legend()\n",
    "\n",
    "ax.set_xlabel(r\"$U$\")\n",
    "ax.set_ylabel(r\"$Utility$\")\n",
    "ax.set_title(r\"Utility as a function of $\\tau$\")\n",
    "\n",
    "plt.show()"
   ]
  },
  {
   "attachments": {},
   "cell_type": "markdown",
   "metadata": {},
   "source": [
    "A more general preference formulation for the worker is:\n",
    "\n",
    "$$\n",
    "\\begin{align*}\n",
    "\\mathcal{V}(w,\\tau,G)&=\\max_{L\\in[0,24]}\\frac{\\left[ \\left( \\alpha C^{\\frac{\\sigma-1}{\\sigma}}+(1-\\alpha) G^{\\frac{\\sigma-1}{\\sigma}} \\right)^{\\frac{\\sigma}{\\sigma-1} }\\right]^{1-\\rho}-1}{1-\\rho}- \\nu\\frac{L^{1+\\varepsilon}}{1+\\varepsilon},\\,\\,\\,\\varepsilon,\\rho,\\sigma>0,\\,\\,\\,\\rho,\\sigma\\neq1\\\\&\\text{s.t.}\\\\&C=\\kappa+(1-\\tau)wL\n",
    "\\end{align*}    \n",
    "$$\n",
    "\n",
    "Optimal labor supply is now $L^{\\star}(\\tilde{w},G)$."
   ]
  },
  {
   "attachments": {},
   "cell_type": "markdown",
   "metadata": {},
   "source": [
    "Questions 5 and 6 must be answered with the general formulation, and for 2 different set of parameters:\n",
    "\n",
    "- Set 1:  $\\sigma = 1.001$, $\\rho = 1.001$ and $\\varepsilon = 1.0$.\n",
    "- Set 2:  $\\sigma = 1.5$, $\\rho = 1.5$ and $\\varepsilon = 1.0 $."
   ]
  },
  {
   "attachments": {},
   "cell_type": "markdown",
   "metadata": {},
   "source": [
    "**Question 5:** Find the $G$ that solves $G = \\tau w L^{\\star}((1-\\tau)w,G)$ using the $\\tau$ found in question 4.\n",
    "\n",
    "*Hint: First write code that solves the worker problem for given values of $G$ and $\\tau$. Then find the correct G based on this.*"
   ]
  },
  {
   "cell_type": "code",
   "execution_count": 667,
   "metadata": {},
   "outputs": [],
   "source": [
    "# define parameters\n",
    "mp1 = copy.deepcopy(mp)\n",
    "mp1.sigma = 1.001\n",
    "mp1.rho = 1.001\n",
    "mp1.eps = 1.0\n",
    "mp1.tau = max_tau\n",
    "\n",
    "mp2 = copy.deepcopy(mp)\n",
    "mp2.sigma = 1.5\n",
    "mp2.rho = 1.5\n",
    "mp2.eps = 1.0\n",
    "mp2.tau = max_tau\n",
    "\n",
    "# equation\n",
    "def utility(l, mp):\n",
    "    \"\"\" utility function\n",
    "    \n",
    "    Args:\n",
    "        l (float): labor\n",
    "        mp (SimpleNamespace): model parameters\n",
    "\n",
    "    Returns:\n",
    "        float: utility value\n",
    "\n",
    "    \"\"\"\n",
    "\n",
    "    g = mp.tau*mp.w*l\n",
    "\n",
    "    c = mp.kappa + (1-mp.tau)*mp.w*l\n",
    "\n",
    "    if mp.sigma == 1:\n",
    "        mp.sigma = 1 + 1e-8\n",
    "\n",
    "    if mp.rho == 1:\n",
    "        mp.rho = 1 + 1e-8\n",
    "        \n",
    "    numerator = ((mp.alpha*c**((mp.sigma-1)/mp.sigma)+(1-mp.alpha)*g**(((mp.sigma-1)/mp.sigma)))**(1-mp.rho)-1)\n",
    "    denominator = 1-mp.rho\n",
    "\n",
    "    return  numerator/denominator\n",
    "\n",
    "    def disutility(l, mp):\n",
    "        \"\"\" disutility function\n",
    "        \n",
    "        Args:\n",
    "            l (float): labor\n",
    "            mp (SimpleNamespace): model parameters\n",
    "    \n",
    "        Returns:\n",
    "            float: disutility value\n",
    "    \n",
    "        \"\"\"\n",
    "        return mp.nu * (l**(1+mp.eps))/(1+mp.eps)\n",
    "\n",
    "# objective function\n",
    "def objective_general(l, mp):\n",
    "    \"\"\" objective function\n",
    "    \n",
    "    Args:\n",
    "        l (float): labor\n",
    "        mp (SimpleNamespace): model parameters\n",
    "    \n",
    "    Returns:\n",
    "        float: objective value\n",
    "    \n",
    "    \"\"\"\n",
    "    return utility(l, mp) - disutility(l, mp)"
   ]
  },
  {
   "cell_type": "code",
   "execution_count": 668,
   "metadata": {},
   "outputs": [
    {
     "name": "stdout",
     "output_type": "stream",
     "text": [
      "the optimal G for set 1 is\n",
      "[0.29199219]\n",
      "the optimal L for set 1 is\n",
      "[0.5559082]\n",
      "------------------------------------------------------------------\n",
      "the optimal G for set 2 is\n",
      "[5.66891868]\n",
      "the optimal L for set 2 is\n",
      "[10.79274902]\n"
     ]
    }
   ],
   "source": [
    "# optimize the objective function using scipy.optimize.minimize\n",
    "# initial guess\n",
    "l0 = 12\n",
    "\n",
    "# bounds\n",
    "bnds = ((0, 24),)\n",
    "\n",
    "# optimize the objective function wrt to L, and return the optimal G\n",
    "obj_1 = lambda l: -objective_general(l, mp1)\n",
    "result1 = optimize.minimize(obj_1, l0, bounds=bnds, method='Nelder-Mead')\n",
    "L1 = result1.x\n",
    "G1 = mp1.tau*mp1.w*result1.x\n",
    "print('the optimal G for set 1 is')\n",
    "print(G1)\n",
    "print('the optimal L for set 1 is')\n",
    "print(L1)\n",
    "print('------------------------------------------------------------------')\n",
    "obj_2 = lambda l: -objective_general(l, mp2)\n",
    "result2 = optimize.minimize(obj_2, l0, bounds=bnds, method='Nelder-Mead')\n",
    "L2 = result2.x\n",
    "G2 = mp2.tau*mp2.w*result2.x\n",
    "print('the optimal G for set 2 is')\n",
    "print(G2)\n",
    "print('the optimal L for set 2 is')\n",
    "print(result2.x)"
   ]
  },
  {
   "attachments": {},
   "cell_type": "markdown",
   "metadata": {},
   "source": [
    "**Question 6:** Find the socially optimal tax rate, $\\tau^{\\star}$, maximizing worker utility, while keeping $G = \\tau w L^{\\star}((1-\\tau)w,G)$."
   ]
  },
  {
   "cell_type": "code",
   "execution_count": 669,
   "metadata": {},
   "outputs": [
    {
     "name": "stdout",
     "output_type": "stream",
     "text": [
      "Set 1: The highest utility is -0.0005902461 and it is achieved at tau = 1.0000000000\n",
      "------------------------------------------------------------------\n",
      "Set 2: The highest utility is 0.3982596680 and it is achieved at tau = 0.5454545455\n"
     ]
    }
   ],
   "source": [
    "# define list of mp1 and mp2\n",
    "mp_list = [mp1, mp2]\n",
    "\n",
    "# define vector of tau \n",
    "tau_vec = np.linspace(0, 1, 100)\n",
    "\n",
    "# initialize vector of utility levels\n",
    "utility_vec = np.empty_like(tau_vec)\n",
    "\n",
    "# loop over tau_vec and calculate utility levels\n",
    "for i, tau in enumerate(tau_vec):\n",
    "    mp = mp1\n",
    "    mp.tau = tau\n",
    "    obj = lambda l: -objective_general(l, mp)\n",
    "    result= optimize.minimize(obj, l0, bounds=bnds, method='Nelder-Mead')\n",
    "    utility_vec[i] = -result.fun\n",
    "\n",
    "# find the higest value of obj and the corresponding tau\n",
    "max_utility = np.max(utility_vec)\n",
    "max_tau = tau_vec[np.argmax(utility_vec)]\n",
    "\n",
    "print(f\"Set 1: The highest utility is {max_utility:.10f} and it is achieved at tau = {max_tau:.10f}\")\n",
    "print('------------------------------------------------------------------')\n",
    "\n",
    "# loop over tau_vec and calculate utility levels\n",
    "for i, tau in enumerate(tau_vec):\n",
    "    mp = mp2\n",
    "    mp.tau = tau\n",
    "    obj = lambda l: -objective_general(l, mp)\n",
    "    result= optimize.minimize(obj, l0, bounds=bnds, method='Nelder-Mead')\n",
    "    utility_vec[i] = -result.fun\n",
    "\n",
    "# find the higest value of obj and the corresponding tau\n",
    "max_utility = np.max(utility_vec)\n",
    "max_tau = tau_vec[np.argmax(utility_vec)]\n",
    "\n",
    "print(f\"Set 2: The highest utility is {max_utility:.10f} and it is achieved at tau = {max_tau:.10f}\")"
   ]
  },
  {
   "attachments": {},
   "cell_type": "markdown",
   "metadata": {},
   "source": [
    "## 2. <a id='toc2_'></a>[Problem 2: Labor adjustment costs](#toc0_)"
   ]
  },
  {
   "attachments": {},
   "cell_type": "markdown",
   "metadata": {},
   "source": [
    "You own a hair salon. You employ hairdressers, $\\ell_t$, to produce haircuts, $y_t = \\ell_t$.\n",
    "\n",
    "The wage for each haridresser is $w$.\n",
    "\n",
    "The demand for haircuts implies that the price of haircuts you can charge is $p_t = \\kappa_t y_t^{-\\eta}$, where $\\kappa_t$ is a demand-shock and $\\eta \\in (0,1)$ measures the elasticity of demand.\n",
    "\n",
    "Profits are:\n",
    "\n",
    "$$\n",
    "\\Pi_t = p_t y_t - w \\ell_t = \\kappa_t \\ell_t^{1-\\eta} - w \\ell_t\n",
    "$$"
   ]
  },
  {
   "attachments": {},
   "cell_type": "markdown",
   "metadata": {},
   "source": [
    "Baseline parameters are:\n",
    "- $\\eta = 0.5$\n",
    "- $w = 1.0$"
   ]
  },
  {
   "attachments": {},
   "cell_type": "markdown",
   "metadata": {},
   "source": [
    "**Question 1:** Verify numerically that $\\ell_{t}=\\left(\\frac{(1-\\eta)\\kappa_{t}}{w}\\right)^{\\frac{1}{\\eta}}$ maximises profits, for $\\kappa\\in\\left\\{1.0 , 2.0\\right\\}$."
   ]
  },
  {
   "cell_type": "code",
   "execution_count": 678,
   "metadata": {},
   "outputs": [
    {
     "name": "stdout",
     "output_type": "stream",
     "text": [
      "For kappa = 1:\n",
      "Ell: 0.24999994459303015\n",
      "P: 0.24999999999999695\n",
      "\n",
      "For kappa = 2:\n",
      "Ell: 0.9999999144499445\n",
      "P: 0.9999999999999982\n",
      "\n"
     ]
    }
   ],
   "source": [
    "## Importing the model and the solution from the py-file. \n",
    "%run exam_Q2.py\n",
    "\n",
    "# Setting the model and printing the results from the numerical maximization  \n",
    "exercise = Exercise2_1()\n",
    "exercise.maximize_profit()\n",
    "exercise.print_results()"
   ]
  },
  {
   "attachments": {},
   "cell_type": "markdown",
   "metadata": {},
   "source": [
    "We now consider a *dynamic* version of the model.\n",
    "\n",
    "* The demand-shock is a so-called AR(1) in logs, \n",
    "\n",
    "$$\n",
    "\\log \\kappa_{t} = \\rho \\log \\kappa_{t-1} + \\epsilon_{t},\\,\\,\\, \\epsilon_{t+1} \\sim \\mathcal{N}(-0.5\\sigma_{\\epsilon}^2,\\sigma_{\\epsilon})\n",
    "$$\n",
    "\n",
    "* Any hiring or firing implies a fixed adjustment cost, $\\iota > 0 $.\n",
    "* Future profits are discounted with a monthly factor of $R \\in (0,1)$.\n",
    "\n",
    "The initial demand shock is $\\kappa_{-1} = 1$ and the planning horizon is 10 years, i.e. 120 months so $t \\in \\{0,1,2,\\dots,119\\}$. Initially you don't have any employees, $\\ell_{-1}=0$"
   ]
  },
  {
   "attachments": {},
   "cell_type": "markdown",
   "metadata": {},
   "source": [
    "\n",
    "The *ex post* value of the salon is *conditional* on the shock series is:\n",
    "\n",
    "$$\n",
    "h(\\epsilon_0,\\epsilon_1,\\dots,\\epsilon_{119}) = \\left[\\sum_{t=0}^{119}R^{-t}\\left[\\kappa_{t}\\ell_{t}^{1-\\eta}-w\\ell_{t}-\\boldsymbol{1}_{\\ell_{t}\\neq\\ell_{t-1}}\\iota\\right]\\right]\n",
    "$$\n",
    "\n",
    "The *ex ante* expected value of the salon can be approximated by\n",
    "\n",
    "$$\n",
    "H = \\mathbb{E}[h(\\epsilon_0,\\epsilon_1,\\dots,\\epsilon_{119})] \\approx \\frac{1}{K}\\sum_{k=0}^{K} h(\\epsilon_0^k,\\epsilon_1^k,\\dots,\\epsilon_{119}^k)\n",
    "$$\n",
    "\n",
    "where each $k\\in\\{0,1,\\dots,K-1\\}$ is a random shock series. Maximizing profitability means maximizing $H$.\n"
   ]
  },
  {
   "attachments": {},
   "cell_type": "markdown",
   "metadata": {},
   "source": [
    "Baseline parameters are: \n",
    "\n",
    "- $\\rho = 0.90$\n",
    "- $\\iota = 0.01$\n",
    "- $\\sigma_{\\epsilon} = 0.10$\n",
    "- $R = \\left(1+0.01\\right)^{1/12}$"
   ]
  },
  {
   "attachments": {},
   "cell_type": "markdown",
   "metadata": {},
   "source": [
    "**Question 2:** Calculate $H$ if the policy  $\\ell_{t}=\\left(\\frac{(1-\\eta)\\kappa_{t}}{w}\\right)^{\\frac{1}{\\eta}}$ from question 1 is followed. Choose $K$ so the approximation is good enough to not affect your results substantially."
   ]
  },
  {
   "cell_type": "code",
   "execution_count": 679,
   "metadata": {},
   "outputs": [
    {
     "name": "stdout",
     "output_type": "stream",
     "text": [
      "Ex ante expected value of the salon (H): 7.44866065130735\n"
     ]
    }
   ],
   "source": [
    "# Importing the model and the solution from the py-file\n",
    "%run exam_Q2.py\n",
    "#from exam_Q2 import Exercise2_2\n",
    "\n",
    "# Create an instance of Exercise2_2\n",
    "exercise = Exercise2_2()\n",
    "\n",
    "# Calculate the ex ante expected value of the salon\n",
    "H = exercise.calculate_expected_value(exercise.par.eta)\n",
    "\n",
    "# Print the result\n",
    "print(\"Ex ante expected value of the salon (H):\", H)"
   ]
  },
  {
   "attachments": {},
   "cell_type": "markdown",
   "metadata": {},
   "source": [
    "Next, we consider policies on the form:\n",
    "\n",
    "$$\n",
    "\n",
    "\\ell_{t}=\\begin{cases}\n",
    "\\ell_t^{\\ast}  & \\text{if }\\left|\\ell_{t-1}-\\ell_t^{\\ast} \\right|>\\Delta\\\\\n",
    "\\ell_{t-1} & \\text{else }\n",
    "\\end{cases}\n",
    "\\\\\n",
    "\\text{where}\\,\\,\\ell_t^{\\ast} = \\left(\\frac{(1-\\eta)\\kappa_{t}}{w}\\right)^{\\frac{1}{\\eta}} \\\\\n",
    "\n",
    "$$\n",
    "With $\\Delta \\geq 0$ and $\\Delta = 0$ being the previous policy.\n"
   ]
  },
  {
   "attachments": {},
   "cell_type": "markdown",
   "metadata": {},
   "source": [
    "\n",
    "**Question 3:** Calculate $H$ if the policy above was followed with $\\Delta = 0.05$. Does it improve profitability?"
   ]
  },
  {
   "cell_type": "code",
   "execution_count": 680,
   "metadata": {},
   "outputs": [
    {
     "name": "stdout",
     "output_type": "stream",
     "text": [
      "Ex ante expected value of the salon (H): 7.043074254189291\n",
      "Yes, it improves profitability when introducing the labor fork\n"
     ]
    }
   ],
   "source": [
    "# Importing the model and the solution from the py-file\n",
    "%run exam_Q2.py\n",
    "\n",
    "# Create an instance of Exercise2_3\n",
    "exercise = Exercise2_3()\n",
    "\n",
    "# Calculate the ex ante expected value of the salon\n",
    "H = exercise.calculate_expected_value(exercise.par.eta)\n",
    "\n",
    "# Print the result\n",
    "print(\"Ex ante expected value of the salon (H):\", H)\n",
    "print(\"Yes, it improves profitability when introducing the labor fork\")"
   ]
  },
  {
   "attachments": {},
   "cell_type": "markdown",
   "metadata": {},
   "source": [
    "**Question 4:** Find the optimal $\\Delta$ maximizing $H$. Illustrate your result."
   ]
  },
  {
   "cell_type": "code",
   "execution_count": 681,
   "metadata": {},
   "outputs": [
    {
     "name": "stdout",
     "output_type": "stream",
     "text": [
      "Maximum expected value (H): 7.360340504410846\n",
      "Delta value that maximizes H: 0.01\n"
     ]
    },
    {
     "data": {
      "image/png": "[encoded data removed]",
      "text/plain": [
       "<Figure size 640x480 with 1 Axes>"
      ]
     },
     "metadata": {},
     "output_type": "display_data"
    }
   ],
   "source": [
    "# Create an instance of Exercise2_4\n",
    "exercise = Exercise2_4()\n",
    "delta_values = np.linspace(0.01, 0.2, num=100)  # Vary delta from 0.01 to 0.2\n",
    "\n",
    "# Calculate the maximum expected value, corresponding delta, and H values\n",
    "max_H, max_delta, H_values = exercise.calculate_expected_value(exercise.par.eta, delta_values)\n",
    "\n",
    "print(f\"Maximum expected value (H): {max_H}\")\n",
    "print(f\"Delta value that maximizes H: {max_delta}\")\n",
    "\n",
    "# Plot the results\n",
    "plt.plot(delta_values, H_values)\n",
    "plt.xlabel('Delta')\n",
    "plt.ylabel('Expected Value (H)')\n",
    "plt.title('Expected Value (H) vs. Delta')\n",
    "\n",
    "# Highlight the solution\n",
    "plt.scatter(max_delta, max_H, color='red', label='Maximizing solution')\n",
    "plt.legend()\n",
    "\n",
    "plt.show()"
   ]
  },
  {
   "attachments": {},
   "cell_type": "markdown",
   "metadata": {},
   "source": [
    "\n",
    "**Question 5:** Suggest an alternative policy you believe might improve profitability. Implement and test your policy.\n",
    "\n"
   ]
  },
  {
   "cell_type": "code",
   "execution_count": 674,
   "metadata": {},
   "outputs": [],
   "source": [
    "# write your code here"
   ]
  },
  {
   "attachments": {},
   "cell_type": "markdown",
   "metadata": {},
   "source": [
    "## 3. <a id='toc3_'></a>[Problem 3: Global optimizer with refined multi-start](#toc0_)"
   ]
  },
  {
   "attachments": {},
   "cell_type": "markdown",
   "metadata": {},
   "source": [
    "We consider the Griewank function:\n",
    "\n",
    "$$ f(\\boldsymbol{x}) = \\sum^n_{i=1} \\frac{x^2_i}{4000}-\\prod^n_{i=1}\\cos\\left(\\frac{x_i}{\\sqrt{i}}\\right)+1$$\n",
    "\n",
    "The **global minimum** of this function is $f(0,0) = 0$ (remember: $\\cos(0)=1$).<br>\n",
    "But the function also have a lot of **local minima**."
   ]
  },
  {
   "cell_type": "code",
   "execution_count": 675,
   "metadata": {},
   "outputs": [],
   "source": [
    "def griewank(x):\n",
    "    return griewank_(x[0],x[1])\n",
    "    \n",
    "def griewank_(x1,x2):\n",
    "    A = x1**2/4000 + x2**2/4000\n",
    "    B = np.cos(x1/np.sqrt(1))*np.cos(x2/np.sqrt(2))\n",
    "    return A-B+1"
   ]
  },
  {
   "attachments": {},
   "cell_type": "markdown",
   "metadata": {},
   "source": [
    "A **refined global optimizer with multi-start** is:\n",
    "\n",
    "1. Choose *bounds* for $\\mathbf{x}$ and *tolerance* $\\tau > 0$.\n",
    "2. Choose number of *warm-up iterations*, $\\underline{K} > 0$ and *maximum number of iterations*, $K > \\underline{K}$.\n",
    "3. In each iteration for $k \\in \\{0,1,\\dots,K-1\\}$:\n",
    "\n",
    "    A. Draw random $\\mathbf{x}^k$ uniformly within chosen bounds.\n",
    "\n",
    "    B. If $k < \\underline{K}$ go to step E.\n",
    "\n",
    "    C. Calculate $\\chi^k = 0.50\\cdot\\frac{2}{1+\\exp((k-\\underline{K})/100)}$  \n",
    "\n",
    "    D. Set $\\mathbf{x}^{k0} = \\chi^k \\mathbf{x}^k + (1-\\chi^k)\\mathbf{x}^{\\ast} $\n",
    "\n",
    "    E. Run optimizer with $\\mathbf{x}^{k0}$ as initial guess and $\\mathbf{x}^{k\\ast}$ as result.\n",
    "\n",
    "    F. Set $\\mathbf{x}^{\\ast} = \\mathbf{x}^{k\\ast}$ if $k = 0$ or $f(\\mathbf{x}^{k\\ast}) < f(\\mathbf{x}^{\\ast})$\n",
    "\n",
    "    G. If $f(\\mathbf{x}^{\\ast}) < \\tau$ go to step 4.\n",
    "\n",
    "4. Return the result $\\mathbf{x}^{\\ast}$."
   ]
  },
  {
   "attachments": {},
   "cell_type": "markdown",
   "metadata": {},
   "source": [
    "As settings we choose:\n",
    "\n",
    "* $x_1,x_2 \\in  [-600,600]$\n",
    "* $\\tau = 10^{-8}$\n",
    "* $\\underline{K}=10$\n",
    "* $K=1000$\n",
    "\n",
    "The optimizer in Step 3.E is `BFGS` with a tolerance of $\\tau$."
   ]
  },
  {
   "attachments": {},
   "cell_type": "markdown",
   "metadata": {},
   "source": [
    "**Question 1:** Implement the refined global optimizer with multi-start. Illustrate how the effective initial guesses $\\mathbf{x}^{k0}$ vary with the iteration counter $k$."
   ]
  },
  {
   "cell_type": "code",
   "execution_count": 676,
   "metadata": {},
   "outputs": [],
   "source": [
    "# write your code here"
   ]
  },
  {
   "attachments": {},
   "cell_type": "markdown",
   "metadata": {},
   "source": [
    "**Question 2:** Is it a better idea to set $\\underline{K} = 100$? Is the convergence faster?"
   ]
  },
  {
   "cell_type": "code",
   "execution_count": 677,
   "metadata": {},
   "outputs": [],
   "source": [
    "# write your code here"
   ]
  }
 ],
 "metadata": {
  "kernelspec": {
   "display_name": "base",
   "language": "python",
   "name": "python3"
  },
  "language_info": {
   "codemirror_mode": {
    "name": "ipython",
    "version": 3
   },
   "file_extension": ".py",
   "mimetype": "text/x-python",
   "name": "python",
   "nbconvert_exporter": "python",
   "pygments_lexer": "ipython3",
   "version": "3.9.16"
  },
  "orig_nbformat": 4
 },
 "nbformat": 4,
 "nbformat_minor": 2
}
